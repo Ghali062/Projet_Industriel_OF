{
  "cells": [
    {
      "cell_type": "markdown",
      "metadata": {
        "id": "ogsiJpZTTTGG"
      },
      "source": [
        "# Gaussian Process"
      ]
    },
    {
      "cell_type": "markdown",
      "metadata": {
        "id": "TYEQTg83TY9t"
      },
      "source": [
        "Après avoir étudié la méthode de l’Optimal Fingerprint, nous cherchons à explorer des approches plus récentes afin d’améliorer la détection du changement climatique. Grâce aux avancées en apprentissage automatique et en statistiques bayésiennes, il est possible de développer des méthodes plus performantes et robustes pour identifier les signaux du changement climatique dans les données climatiques.  \n",
        "\n",
        "L’objectif de ce notebook est donc de mettre en œuvre une méthode de détection du changement climatique en combinant les statistiques bayésiennes et les machines à vecteurs de support (SVMs). Cette approche vise à optimiser la séparation des données et à affiner l’analyse des tendances climatiques afin d’obtenir des résultats plus précis et plus fiables."
      ]
    },
    {
      "cell_type": "markdown",
      "metadata": {
        "id": "6_GJ9yvN2GU8"
      },
      "source": [
        "# Sommaire"
      ]
    },
    {
      "cell_type": "markdown",
      "metadata": {
        "id": "TfFws95-frpg"
      },
      "source": [
        "Introduction\n",
        "\n",
        "0. Librairies\n",
        "1. Implémentation, initialisation et test de la méthode\n",
        "  0. Extraction et traitement des données de simulaation\n",
        "  1. Implémentation de la méthode\n",
        "    1. Séparation des données\n",
        "        1. De manière aléatoire\n",
        "        2. Avec des processus gaussiens\n",
        "          - Avec sklearn\n",
        "          - Avec gpytorch\n",
        "    2. Validation des hyperparamètres avec validation croisée et entrainement du modèle\n",
        "    3. Test statistique fréquentiste pour la détection du changement climatique\n",
        "    4. Evaluation du modèle\n",
        "    5. Test bayésien pour la détection du changement climatique\n",
        "    6. Application de la méthode sur les sonnées de test\n",
        "    7. Mesure de la différence entre les deux différentes méthodes de séparation des **données**\n",
        "2. Test de la méthode sur des observations\n",
        "  1. Détection du changelent climatique à l'échelle mondiale\n",
        "  2. Détection du changeent climatique en Europe\n",
        "  Détection du changement climatique en Amérique du Nord\n",
        "3. Application sur de nouvelles données (précipitations extrêmes)\n",
        "\n",
        "Conclusion"
      ]
    },
    {
      "cell_type": "markdown",
      "metadata": {
        "id": "Bfwp_r9lJ84D"
      },
      "source": [
        "# Introduction"
      ]
    },
    {
      "cell_type": "markdown",
      "metadata": {
        "id": "2lJuQmbfKCPP"
      },
      "source": [
        "Le changement climatique est un phénomène global dont la détection repose sur l'analyse rigoureuse des données climatiques. La méthode de l’Optimal Fingerprint (OF) est une approche statistique classique largement utilisée pour identifier et quantifier l’influence des activités humaines sur le climat. Cependant, avec l’évolution des techniques d’apprentissage automatique et des outils statistiques avancés, il est possible d’exploiter des méthodes plus récentes pour améliorer la détection du changement climatique.  \n",
        "\n",
        "Dans ce travail, nous mettons en œuvre une approche combinant les statistiques bayésiennes et les machines à vecteurs de support (SVMs) pour identifier les signes du changement climatique à partir de simulations et d'observations. Cette méthode vise à optimiser la séparation des données en utilisant des techniques avancées, notamment des processus gaussiens pour une meilleure structuration des ensembles d’apprentissage et de test.  \n",
        "\n",
        "Notre approche repose sur plusieurs étapes clés :  \n",
        "- Traitement et extraction des données issues de simulations climatiques.  \n",
        "- Implémentation d’un modèle intégrant des méthodes de séparation aléatoire ou guidée par des processus gaussiens.  \n",
        "- Validation et entraînement du modèle à l’aide de la validation croisée et d’une sélection optimale des hyperparamètres.  \n",
        "- Tests de détection du changement climatique, en utilisant à la fois des approches fréquentistes et bayésiennes.  \n",
        "- Application sur des observations réelles, à différentes échelles géographiques (monde, Europe, Amérique du Nord).  \n",
        "- Généralisation du modèle sur de nouvelles données, notamment les précipitations extrêmes.  \n",
        "\n",
        "L’objectif est d’évaluer dans quelle mesure ces nouvelles méthodes permettent une détection plus robuste et précise du changement climatique par rapport aux approches traditionnelles (comme l'OF)."
      ]
    },
    {
      "cell_type": "markdown",
      "metadata": {
        "id": "jO0aVNTyUq-Y"
      },
      "source": [
        "## Comment on l'utilise ?"
      ]
    },
    {
      "cell_type": "markdown",
      "metadata": {
        "id": "uiDohQiOUu8U"
      },
      "source": [
        "On va maintenant voir comment on va pouvoir implémenter.\n",
        "\n",
        "\n",
        "1.   Séparer les données en 3 groupes (entrainement, validation et test) à l'aide des statistiques bayésiennes\n",
        "2.   Déterminer les hyperparamètres du modèle vaec la cross validation\n",
        "3.   Entraîner le modèle\n",
        "3.   Déterminer le seuil de manière à controler l'erreur de type I (avec les données de validation)\n",
        "4.   Déterminer la précision du notre nouveau modèle\n",
        "5.   Evaluer et tester de variation de cettre méthode"
      ]
    },
    {
      "cell_type": "markdown",
      "metadata": {
        "id": "YqQhaEZqlghL"
      },
      "source": [
        "# 0. Librairies"
      ]
    },
    {
      "cell_type": "markdown",
      "metadata": {
        "id": "BC03VrxplnUx"
      },
      "source": [
        "Les librairies que l'on va utiliser."
      ]
    },
    {
      "cell_type": "code",
      "execution_count": 1,
      "metadata": {
        "colab": {
          "base_uri": "https://localhost:8080/"
        },
        "id": "eQFyyts6lj9I",
        "outputId": "4613b716-c491-47e9-8151-ac583a7014f9"
      },
      "outputs": [
        {
          "name": "stdout",
          "output_type": "stream",
          "text": [
            "Requirement already satisfied: netCDF4 in c:\\users\\delsa\\appdata\\local\\packages\\pythonsoftwarefoundation.python.3.11_qbz5n2kfra8p0\\localcache\\local-packages\\python311\\site-packages (1.7.2)\n",
            "Requirement already satisfied: cftime in c:\\users\\delsa\\appdata\\local\\packages\\pythonsoftwarefoundation.python.3.11_qbz5n2kfra8p0\\localcache\\local-packages\\python311\\site-packages (from netCDF4) (1.6.4.post1)\n",
            "Requirement already satisfied: certifi in c:\\users\\delsa\\appdata\\local\\packages\\pythonsoftwarefoundation.python.3.11_qbz5n2kfra8p0\\localcache\\local-packages\\python311\\site-packages (from netCDF4) (2025.1.31)\n",
            "Requirement already satisfied: numpy in c:\\users\\delsa\\appdata\\local\\packages\\pythonsoftwarefoundation.python.3.11_qbz5n2kfra8p0\\localcache\\local-packages\\python311\\site-packages (from netCDF4) (2.2.4)\n"
          ]
        },
        {
          "name": "stderr",
          "output_type": "stream",
          "text": [
            "\n",
            "[notice] A new release of pip is available: 24.0 -> 25.0.1\n",
            "[notice] To update, run: C:\\Users\\DELSA\\AppData\\Local\\Microsoft\\WindowsApps\\PythonSoftwareFoundation.Python.3.11_qbz5n2kfra8p0\\python.exe -m pip install --upgrade pip\n"
          ]
        },
        {
          "name": "stdout",
          "output_type": "stream",
          "text": [
            "Requirement already satisfied: cftime in c:\\users\\delsa\\appdata\\local\\packages\\pythonsoftwarefoundation.python.3.11_qbz5n2kfra8p0\\localcache\\local-packages\\python311\\site-packages (1.6.4.post1)\n",
            "Requirement already satisfied: numpy>1.13.3 in c:\\users\\delsa\\appdata\\local\\packages\\pythonsoftwarefoundation.python.3.11_qbz5n2kfra8p0\\localcache\\local-packages\\python311\\site-packages (from cftime) (2.2.4)\n"
          ]
        },
        {
          "name": "stderr",
          "output_type": "stream",
          "text": [
            "\n",
            "[notice] A new release of pip is available: 24.0 -> 25.0.1\n",
            "[notice] To update, run: C:\\Users\\DELSA\\AppData\\Local\\Microsoft\\WindowsApps\\PythonSoftwareFoundation.Python.3.11_qbz5n2kfra8p0\\python.exe -m pip install --upgrade pip\n"
          ]
        },
        {
          "name": "stdout",
          "output_type": "stream",
          "text": [
            "Requirement already satisfied: gpytorch in c:\\users\\delsa\\appdata\\local\\packages\\pythonsoftwarefoundation.python.3.11_qbz5n2kfra8p0\\localcache\\local-packages\\python311\\site-packages (1.14)\n",
            "Requirement already satisfied: jaxtyping in c:\\users\\delsa\\appdata\\local\\packages\\pythonsoftwarefoundation.python.3.11_qbz5n2kfra8p0\\localcache\\local-packages\\python311\\site-packages (from gpytorch) (0.2.38)\n",
            "Requirement already satisfied: mpmath<=1.3,>=0.19 in c:\\users\\delsa\\appdata\\local\\packages\\pythonsoftwarefoundation.python.3.11_qbz5n2kfra8p0\\localcache\\local-packages\\python311\\site-packages (from gpytorch) (1.3.0)\n",
            "Requirement already satisfied: scikit-learn in c:\\users\\delsa\\appdata\\local\\packages\\pythonsoftwarefoundation.python.3.11_qbz5n2kfra8p0\\localcache\\local-packages\\python311\\site-packages (from gpytorch) (1.6.0)\n",
            "Requirement already satisfied: scipy>=1.6.0 in c:\\users\\delsa\\appdata\\local\\packages\\pythonsoftwarefoundation.python.3.11_qbz5n2kfra8p0\\localcache\\local-packages\\python311\\site-packages (from gpytorch) (1.14.1)\n",
            "Requirement already satisfied: linear-operator>=0.6 in c:\\users\\delsa\\appdata\\local\\packages\\pythonsoftwarefoundation.python.3.11_qbz5n2kfra8p0\\localcache\\local-packages\\python311\\site-packages (from gpytorch) (0.6)\n",
            "Requirement already satisfied: torch>=2.0 in c:\\users\\delsa\\appdata\\local\\packages\\pythonsoftwarefoundation.python.3.11_qbz5n2kfra8p0\\localcache\\local-packages\\python311\\site-packages (from linear-operator>=0.6->gpytorch) (2.6.0)\n",
            "Requirement already satisfied: numpy<2.3,>=1.23.5 in c:\\users\\delsa\\appdata\\local\\packages\\pythonsoftwarefoundation.python.3.11_qbz5n2kfra8p0\\localcache\\local-packages\\python311\\site-packages (from scipy>=1.6.0->gpytorch) (2.2.4)\n",
            "Requirement already satisfied: wadler-lindig>=0.1.3 in c:\\users\\delsa\\appdata\\local\\packages\\pythonsoftwarefoundation.python.3.11_qbz5n2kfra8p0\\localcache\\local-packages\\python311\\site-packages (from jaxtyping->gpytorch) (0.1.3)\n",
            "Requirement already satisfied: joblib>=1.2.0 in c:\\users\\delsa\\appdata\\local\\packages\\pythonsoftwarefoundation.python.3.11_qbz5n2kfra8p0\\localcache\\local-packages\\python311\\site-packages (from scikit-learn->gpytorch) (1.4.2)\n",
            "Requirement already satisfied: threadpoolctl>=3.1.0 in c:\\users\\delsa\\appdata\\local\\packages\\pythonsoftwarefoundation.python.3.11_qbz5n2kfra8p0\\localcache\\local-packages\\python311\\site-packages (from scikit-learn->gpytorch) (3.5.0)\n",
            "Requirement already satisfied: filelock in c:\\users\\delsa\\appdata\\local\\packages\\pythonsoftwarefoundation.python.3.11_qbz5n2kfra8p0\\localcache\\local-packages\\python311\\site-packages (from torch>=2.0->linear-operator>=0.6->gpytorch) (3.17.0)\n",
            "Requirement already satisfied: typing-extensions>=4.10.0 in c:\\users\\delsa\\appdata\\local\\packages\\pythonsoftwarefoundation.python.3.11_qbz5n2kfra8p0\\localcache\\local-packages\\python311\\site-packages (from torch>=2.0->linear-operator>=0.6->gpytorch) (4.12.2)\n",
            "Requirement already satisfied: networkx in c:\\users\\delsa\\appdata\\local\\packages\\pythonsoftwarefoundation.python.3.11_qbz5n2kfra8p0\\localcache\\local-packages\\python311\\site-packages (from torch>=2.0->linear-operator>=0.6->gpytorch) (3.4.2)\n",
            "Requirement already satisfied: jinja2 in c:\\users\\delsa\\appdata\\local\\packages\\pythonsoftwarefoundation.python.3.11_qbz5n2kfra8p0\\localcache\\local-packages\\python311\\site-packages (from torch>=2.0->linear-operator>=0.6->gpytorch) (3.1.5)\n",
            "Requirement already satisfied: fsspec in c:\\users\\delsa\\appdata\\local\\packages\\pythonsoftwarefoundation.python.3.11_qbz5n2kfra8p0\\localcache\\local-packages\\python311\\site-packages (from torch>=2.0->linear-operator>=0.6->gpytorch) (2025.2.0)\n",
            "Requirement already satisfied: sympy==1.13.1 in c:\\users\\delsa\\appdata\\local\\packages\\pythonsoftwarefoundation.python.3.11_qbz5n2kfra8p0\\localcache\\local-packages\\python311\\site-packages (from torch>=2.0->linear-operator>=0.6->gpytorch) (1.13.1)\n",
            "Requirement already satisfied: MarkupSafe>=2.0 in c:\\users\\delsa\\appdata\\local\\packages\\pythonsoftwarefoundation.python.3.11_qbz5n2kfra8p0\\localcache\\local-packages\\python311\\site-packages (from jinja2->torch>=2.0->linear-operator>=0.6->gpytorch) (3.0.2)\n"
          ]
        },
        {
          "name": "stderr",
          "output_type": "stream",
          "text": [
            "\n",
            "[notice] A new release of pip is available: 24.0 -> 25.0.1\n",
            "[notice] To update, run: C:\\Users\\DELSA\\AppData\\Local\\Microsoft\\WindowsApps\\PythonSoftwareFoundation.Python.3.11_qbz5n2kfra8p0\\python.exe -m pip install --upgrade pip\n"
          ]
        },
        {
          "name": "stdout",
          "output_type": "stream",
          "text": [
            "Requirement already satisfied: cartopy in c:\\users\\delsa\\appdata\\local\\packages\\pythonsoftwarefoundation.python.3.11_qbz5n2kfra8p0\\localcache\\local-packages\\python311\\site-packages (0.24.1)\n",
            "Requirement already satisfied: numpy>=1.23 in c:\\users\\delsa\\appdata\\local\\packages\\pythonsoftwarefoundation.python.3.11_qbz5n2kfra8p0\\localcache\\local-packages\\python311\\site-packages (from cartopy) (2.2.4)\n",
            "Requirement already satisfied: matplotlib>=3.6 in c:\\users\\delsa\\appdata\\local\\packages\\pythonsoftwarefoundation.python.3.11_qbz5n2kfra8p0\\localcache\\local-packages\\python311\\site-packages (from cartopy) (3.10.0)\n",
            "Requirement already satisfied: shapely>=1.8 in c:\\users\\delsa\\appdata\\local\\packages\\pythonsoftwarefoundation.python.3.11_qbz5n2kfra8p0\\localcache\\local-packages\\python311\\site-packages (from cartopy) (2.0.6)\n",
            "Requirement already satisfied: packaging>=21 in c:\\users\\delsa\\appdata\\local\\packages\\pythonsoftwarefoundation.python.3.11_qbz5n2kfra8p0\\localcache\\local-packages\\python311\\site-packages (from cartopy) (24.2)\n",
            "Requirement already satisfied: pyshp>=2.3 in c:\\users\\delsa\\appdata\\local\\packages\\pythonsoftwarefoundation.python.3.11_qbz5n2kfra8p0\\localcache\\local-packages\\python311\\site-packages (from cartopy) (2.3.1)\n",
            "Requirement already satisfied: pyproj>=3.3.1 in c:\\users\\delsa\\appdata\\local\\packages\\pythonsoftwarefoundation.python.3.11_qbz5n2kfra8p0\\localcache\\local-packages\\python311\\site-packages (from cartopy) (3.7.0)\n",
            "Requirement already satisfied: contourpy>=1.0.1 in c:\\users\\delsa\\appdata\\local\\packages\\pythonsoftwarefoundation.python.3.11_qbz5n2kfra8p0\\localcache\\local-packages\\python311\\site-packages (from matplotlib>=3.6->cartopy) (1.3.1)\n",
            "Requirement already satisfied: cycler>=0.10 in c:\\users\\delsa\\appdata\\local\\packages\\pythonsoftwarefoundation.python.3.11_qbz5n2kfra8p0\\localcache\\local-packages\\python311\\site-packages (from matplotlib>=3.6->cartopy) (0.12.1)\n",
            "Requirement already satisfied: fonttools>=4.22.0 in c:\\users\\delsa\\appdata\\local\\packages\\pythonsoftwarefoundation.python.3.11_qbz5n2kfra8p0\\localcache\\local-packages\\python311\\site-packages (from matplotlib>=3.6->cartopy) (4.55.3)\n",
            "Requirement already satisfied: kiwisolver>=1.3.1 in c:\\users\\delsa\\appdata\\local\\packages\\pythonsoftwarefoundation.python.3.11_qbz5n2kfra8p0\\localcache\\local-packages\\python311\\site-packages (from matplotlib>=3.6->cartopy) (1.4.7)\n",
            "Requirement already satisfied: pillow>=8 in c:\\users\\delsa\\appdata\\local\\packages\\pythonsoftwarefoundation.python.3.11_qbz5n2kfra8p0\\localcache\\local-packages\\python311\\site-packages (from matplotlib>=3.6->cartopy) (11.0.0)\n",
            "Requirement already satisfied: pyparsing>=2.3.1 in c:\\users\\delsa\\appdata\\local\\packages\\pythonsoftwarefoundation.python.3.11_qbz5n2kfra8p0\\localcache\\local-packages\\python311\\site-packages (from matplotlib>=3.6->cartopy) (3.2.0)\n",
            "Requirement already satisfied: python-dateutil>=2.7 in c:\\users\\delsa\\appdata\\local\\packages\\pythonsoftwarefoundation.python.3.11_qbz5n2kfra8p0\\localcache\\local-packages\\python311\\site-packages (from matplotlib>=3.6->cartopy) (2.9.0.post0)\n",
            "Requirement already satisfied: certifi in c:\\users\\delsa\\appdata\\local\\packages\\pythonsoftwarefoundation.python.3.11_qbz5n2kfra8p0\\localcache\\local-packages\\python311\\site-packages (from pyproj>=3.3.1->cartopy) (2025.1.31)\n",
            "Requirement already satisfied: six>=1.5 in c:\\users\\delsa\\appdata\\local\\packages\\pythonsoftwarefoundation.python.3.11_qbz5n2kfra8p0\\localcache\\local-packages\\python311\\site-packages (from python-dateutil>=2.7->matplotlib>=3.6->cartopy) (1.17.0)\n"
          ]
        },
        {
          "name": "stderr",
          "output_type": "stream",
          "text": [
            "\n",
            "[notice] A new release of pip is available: 24.0 -> 25.0.1\n",
            "[notice] To update, run: C:\\Users\\DELSA\\AppData\\Local\\Microsoft\\WindowsApps\\PythonSoftwareFoundation.Python.3.11_qbz5n2kfra8p0\\python.exe -m pip install --upgrade pip\n"
          ]
        }
      ],
      "source": [
        "!pip install netCDF4\n",
        "!pip install cftime\n",
        "!pip install gpytorch\n",
        "!pip install cartopy"
      ]
    },
    {
      "cell_type": "code",
      "execution_count": 2,
      "metadata": {
        "colab": {
          "base_uri": "https://localhost:8080/"
        },
        "id": "3UEZkhiPlspq",
        "outputId": "0e86cd17-fd70-4e32-8349-7d4f6638173f"
      },
      "outputs": [],
      "source": [
        "import xarray as xr\n",
        "import numpy as np\n",
        "import os\n",
        "import cftime\n",
        "import pandas as pd\n",
        "import matplotlib.pyplot as plt\n",
        "import cartopy.crs as ccrs\n",
        "import cartopy.feature as cfeature\n",
        "from cartopy.mpl.gridliner import LongitudeFormatter, LatitudeFormatter\n",
        "import scipy.stats as stats"
      ]
    },
    {
      "cell_type": "markdown",
      "metadata": {
        "id": "vUjegeEdl1zN"
      },
      "source": [
        "Les fonctions de Scikit-learn dont on va avoir besoin"
      ]
    },
    {
      "cell_type": "code",
      "execution_count": 3,
      "metadata": {
        "id": "egQHkXpUltG8"
      },
      "outputs": [],
      "source": [
        "from sklearn.model_selection import train_test_split\n",
        "from sklearn.svm import SVC\n",
        "from sklearn.model_selection import GridSearchCV\n",
        "from sklearn.metrics import accuracy_score\n",
        "from sklearn.metrics import roc_curve\n",
        "from sklearn.gaussian_process import GaussianProcessClassifier\n",
        "from sklearn.gaussian_process import GaussianProcessRegressor\n",
        "from sklearn.gaussian_process.kernels import RBF"
      ]
    },
    {
      "cell_type": "markdown",
      "metadata": {
        "id": "VxP_nEtkl8ne"
      },
      "source": [
        "Les fonctions de GPyTorch dont on va avoir besoin"
      ]
    },
    {
      "cell_type": "code",
      "execution_count": 4,
      "metadata": {
        "id": "btnmFm2Jl7tz"
      },
      "outputs": [],
      "source": [
        "import torch\n",
        "import gpytorch"
      ]
    },
    {
      "cell_type": "markdown",
      "metadata": {
        "id": "-Wg9iy0TXXGn"
      },
      "source": [
        "# 1. Implémentation, initialisation et test de la méthode"
      ]
    },
    {
      "cell_type": "markdown",
      "metadata": {
        "id": "Wws3jYyvk56s"
      },
      "source": [
        "## 0. Extraction et traitement des données de simulaation"
      ]
    },
    {
      "cell_type": "markdown",
      "metadata": {
        "id": "6Kxs5EgWmZ_e"
      },
      "source": [
        "Path pour l'extraction des données des simulations."
      ]
    },
    {
      "cell_type": "code",
      "execution_count": 5,
      "metadata": {},
      "outputs": [
        {
          "name": "stdout",
          "output_type": "stream",
          "text": [
            "Processing file: ERA5_1940-2024_Monthly_TAS.nc\n"
          ]
        }
      ],
      "source": [
        "file_name = \"ERA5_1940-2024_Monthly_TAS.nc\"\n",
        "path_obs = 'C:/Users/DELSA/Documents/travail/ProjetIndustriel/data_obs'\n",
        "obs = xr.open_dataset(path_obs + '/' + file_name)\n",
        "print(f\"Processing file: {file_name}\")"
      ]
    },
    {
      "cell_type": "code",
      "execution_count": 6,
      "metadata": {
        "id": "OrUz6IjblELl"
      },
      "outputs": [],
      "source": [
        "#path = 'drive/MyDrive/projet/data'\n",
        "path = 'C:/Users/DELSA/Documents/travail/ProjetIndustriel/data'"
      ]
    },
    {
      "cell_type": "markdown",
      "metadata": {
        "id": "AC5jiAf6o1-Z"
      },
      "source": [
        "On effectue le même traitement des données que dans la méthode de l'Optimal Fingerprint vu précédemment."
      ]
    },
    {
      "cell_type": "code",
      "execution_count": 7,
      "metadata": {
        "id": "WJNklg0Mo1nA"
      },
      "outputs": [],
      "source": [
        "def reduce_granularity(ds, target_points):\n",
        "    lat_points = ds.sizes['lat']\n",
        "    lon_points = ds.sizes['lon']\n",
        "    total_points = lat_points * lon_points\n",
        "    factor = int(np.sqrt(total_points / target_points))\n",
        "    factor = max(1, factor)\n",
        "    ds_reduced = ds.coarsen(lat=factor, lon=factor, boundary='trim').mean()\n",
        "    return ds_reduced\n",
        "\n",
        "def traitement_data(ds, start_past, end_past, start_present, end_present, n_pt):\n",
        "    data_past = ds.sel(time=slice(start_past, end_past))\n",
        "    data_past = reduce_granularity(data_past, n_pt)\n",
        "    seasonalities = data_past.groupby('time.month').mean('time')\n",
        "    anomalies_past = data_past.groupby('time.month') - seasonalities\n",
        "    anomalies_past_yearly = anomalies_past.resample(time='1YE').mean()\n",
        "\n",
        "    data_present = ds.sel(time=slice(start_present, end_present))\n",
        "    data_present = reduce_granularity(data_present, n_pt)\n",
        "    anomalies_present = data_present.groupby('time.month') - seasonalities\n",
        "    anomalies_present_yearly = anomalies_present.resample(time='1YE').mean()\n",
        "\n",
        "    return anomalies_past_yearly.tas.data, anomalies_present_yearly.tas.data"
      ]
    },
    {
      "cell_type": "markdown",
      "metadata": {
        "id": "OgotcoWEo1Rg"
      },
      "source": [
        "Ici on va extraire les données pour les mettre deans un grand tableau en y ajoutant un label, 0 pour les données du passé (avant 1950) qui représentent des données sans changement climatique et 1 pour les données du présent (après 1950) pour lésquelles il y a un changement climatique."
      ]
    },
    {
      "cell_type": "code",
      "execution_count": 8,
      "metadata": {
        "id": "xuRzyFF3o090"
      },
      "outputs": [],
      "source": [
        "def create_tab(path, start_past, end_past, start_present, end_present, n_f, nb_pts):\n",
        "    if n_f == 0 or n_f > 50:\n",
        "        n = 50\n",
        "    else:\n",
        "        n = n_f\n",
        "\n",
        "    all_data = []\n",
        "    all_labels = []\n",
        "\n",
        "    for file_name in os.listdir(path)[:n]:\n",
        "        full_path = os.path.join(path, file_name)\n",
        "        xarray = xr.open_dataset(full_path)\n",
        "\n",
        "        past, present = traitement_data(xarray, start_past, end_past, start_present, end_present, nb_pts)\n",
        "\n",
        "        time_p, lat_p, lon_p = past.shape\n",
        "        past_reshaped = past.reshape((time_p, lat_p * lon_p))\n",
        "        labels_past = np.zeros((time_p, 1))  # Label 0 pour le passé\n",
        "\n",
        "        time_c, lat_c, lon_c = present.shape\n",
        "        present_reshaped = present.reshape((time_c, lat_c * lon_c))\n",
        "        labels_present = np.ones((time_c, 1))  # Label 1 pour le présent\n",
        "\n",
        "        all_data.append(np.vstack((past_reshaped, present_reshaped)))\n",
        "        all_labels.append(np.vstack((labels_past, labels_present)))\n",
        "\n",
        "    all_data = np.vstack(all_data)\n",
        "    all_labels = np.vstack(all_labels)\n",
        "\n",
        "    return all_data, all_labels"
      ]
    },
    {
      "cell_type": "code",
      "execution_count": 9,
      "metadata": {
        "id": "ydCndmfa52-B"
      },
      "outputs": [],
      "source": [
        "start_past = '1880-01-16'\n",
        "end_past = '1950-01-16'\n",
        "\n",
        "start_present = '1950-01-16'\n",
        "end_present = '2022-12-16'\n",
        "\n",
        "nb_composents = 30 # choix arbitraire\n",
        "nb_pts = 1000\n",
        "nb_fichiers = 50 # pour tous les fichiers"
      ]
    },
    {
      "cell_type": "code",
      "execution_count": 10,
      "metadata": {
        "id": "WgL-gnG0o_kG"
      },
      "outputs": [],
      "source": [
        "data, labels = create_tab(path, start_past, end_past, start_present, end_present, nb_fichiers, nb_pts)\n",
        "labels = labels.ravel()  # Convertir en vecteur 1D"
      ]
    },
    {
      "cell_type": "markdown",
      "metadata": {
        "id": "InvsgOcNOybT"
      },
      "source": [
        "## 1. Implémentation de la méthode"
      ]
    },
    {
      "cell_type": "markdown",
      "metadata": {
        "id": "9hagR00eXhw6"
      },
      "source": [
        "### 1. Séparation des données"
      ]
    },
    {
      "cell_type": "markdown",
      "metadata": {
        "id": "rqTEmIyyZF_W"
      },
      "source": [
        "On va chercher à séparer nos données en 3 groupes distincts:\n",
        "\n",
        "- Les données d'entrainement qui vont permettre d'entraîner le modèle. Cela va représenter 60% de nos données.\n",
        "- Les données de validation qui vont nous servir à faire la cross validation et déterminer les hyperparamètre du modèle. Cela va représenter 20% de nos données.\n",
        "- Les données de tests qui vont nous permettre de quantifier la précision de notre modèle. Elles vont représenter 20% de nos données.\n",
        "\n",
        "Pour réaliser cette séparation des données, nous allons utiliser plusieurs méthodes. La première consiste à assigner aléatoirement un groupe à chacune des données. Pour les deux suivantes on va utiliser les statistiques bayésiennes et porcessus gausiens. Pour l'une des duex on va utiliser la librairie `sklearn` alors que pour l'autre, on va utiliser la librairie `gpytorch`.\n"
      ]
    },
    {
      "cell_type": "markdown",
      "metadata": {
        "id": "kgn2o1_-mf42"
      },
      "source": [
        "#### Séparation aléatoire"
      ]
    },
    {
      "cell_type": "markdown",
      "metadata": {
        "id": "ffB86y4UvcmL"
      },
      "source": [
        "Dans cette première partie, on va utiliser la méthode la plus simple qui consite tout simplment à choisir aléatoirement des points pour créer des sous groupe de taille souhaité."
      ]
    },
    {
      "cell_type": "code",
      "execution_count": 11,
      "metadata": {
        "id": "rrbamysjTRvF"
      },
      "outputs": [],
      "source": [
        "def split_data(data, labels, test_size=0.2, val_size=0.2):\n",
        "    X_train, X_temp, y_train, y_temp = train_test_split(data, labels, test_size=test_size + val_size, random_state=42)\n",
        "    X_val, X_test, y_val, y_test = train_test_split(X_temp, y_temp, test_size=test_size / (test_size + val_size), random_state=42)\n",
        "    return X_train, X_val, X_test, y_train, y_val, y_test"
      ]
    },
    {
      "cell_type": "markdown",
      "metadata": {
        "id": "_YtHI7DPmoHt"
      },
      "source": [
        "#### Méthode utilisant les statistiques bayésienne et les processus gausiens"
      ]
    },
    {
      "cell_type": "markdown",
      "metadata": {
        "id": "LeGL6g2dhaMq"
      },
      "source": [
        "Explication de la méthode de split utilisant les statistiques bayésiennes ainsi que les processus gaussiens."
      ]
    },
    {
      "cell_type": "markdown",
      "metadata": {
        "id": "r36lVllrnMSj"
      },
      "source": [
        "##### Approche avec sklearn"
      ]
    },
    {
      "cell_type": "markdown",
      "metadata": {
        "id": "c35BQ6vjwZWS"
      },
      "source": [
        "On commancer par utiliser les fonctions de sklearn qui nous permettent de rapidement appliqué notre méthode."
      ]
    },
    {
      "cell_type": "code",
      "execution_count": 12,
      "metadata": {
        "id": "MqJ8saj9nXR-"
      },
      "outputs": [],
      "source": [
        "def split_data_bayes_sk(data, labels, test_size=0.2, val_size=0.2):\n",
        "    X_train, X_temp, y_train, y_temp = train_test_split(data, labels, test_size=0.90, random_state=42)\n",
        "\n",
        "    # Train Gaussian Process Model using scikit-learn\n",
        "    kernel = C(1.0) * RBF(length_scale=1.0)\n",
        "    gp = GaussianProcessRegressor(kernel=kernel, n_restarts_optimizer=10)\n",
        "    gp.fit(X_train, y_train)\n",
        "\n",
        "    # Predict uncertainties\n",
        "    _, uncertainty = gp.predict(data, return_std=True) # retourne la moyenne et l'ecart type\n",
        "    uncertainty = np.square(uncertainty)  # Convert standard deviation to variance\n",
        "    uncertainty += np.random.randn(*uncertainty.shape) * 1e-6 # ajout du bruit\n",
        "    uncertainty = (uncertainty - np.min(uncertainty)) / (np.max(uncertainty) - np.min(uncertainty)) # on normalise\n",
        "\n",
        "\n",
        "    # Define uncertainty thresholds\n",
        "    q1 = np.quantile(uncertainty, 1 - test_size - val_size)\n",
        "    q2 = np.quantile(uncertainty, 1 - test_size)\n",
        "\n",
        "    # Split data based on uncertainty\n",
        "    idx_train = np.where(uncertainty <= q1)[0]  # Low uncertainty → Train\n",
        "    idx_val = np.where((uncertainty > q1) & (uncertainty <= q2))[0]  # Medium uncertainty → Validation\n",
        "    idx_test = np.where(uncertainty > q2)[0]  # High uncertainty → Test\n",
        "    print(f\"les valeurs de q1 et q2 sont : q1 {q1} et q2 {q2}\")\n",
        "\n",
        "    X_train, y_train = data[idx_train], labels[idx_train]\n",
        "    X_val, y_val = data[idx_val], labels[idx_val]\n",
        "    X_test, y_test = data[idx_test], labels[idx_test]\n",
        "\n",
        "    return X_train, X_val, X_test, y_train, y_val, y_test\n"
      ]
    },
    {
      "cell_type": "markdown",
      "metadata": {
        "id": "vEbqb6tXm7dI"
      },
      "source": [
        "##### Approche en utilisant gpytorch"
      ]
    },
    {
      "cell_type": "markdown",
      "metadata": {
        "id": "jRZnQGSRmZ2Y"
      },
      "source": [
        "La méthode précédente agit comme une boite noire, on ne sait pas vraiment comment la méthode fonctionne, c'est pourquuoi nous avons décidé d'utiliser la librairie gpytorch. Elle nous permet de mieux comprendre le comprendre le fonctionnement de notre code mais aussi d'avoir plus de contrôle sur ce qui est fait.\n",
        "\n",
        "Explication de comment la métthode est utilisé.\n",
        "\n",
        "Pour réaliser cette méthode, nous nous sommes aider de cette [exemple](https://docs.gpytorch.ai/en/v1.12/examples/04_Variational_and_Approximate_GPs/SVGP_Regression_CUDA.html) utilisant les processus gaussiens (SVGP)."
      ]
    },
    {
      "cell_type": "markdown",
      "metadata": {
        "id": "-V0B4ei6x5_z"
      },
      "source": [
        "Commençons par définir notre modèle de Gaussian Process.\n",
        "\n",
        "Ici on va utiliser un Gaussian Process Variationnel (SVGP) et non un Gaussian Process Exact (EGP) car il est moins coûteux et parce qu'on a beaucoup de points. En effet l'EGP a un coût en *$O(N^3)$* en calcul et un coût en *$O(N^2)$* en mémoire."
      ]
    },
    {
      "cell_type": "code",
      "execution_count": 13,
      "metadata": {
        "id": "2p_NQ0xbmYdY"
      },
      "outputs": [],
      "source": [
        "class SVGPModel(gpytorch.models.ApproximateGP):\n",
        "    def __init__(self, inducing_points):\n",
        "        variational_distribution = gpytorch.variational.CholeskyVariationalDistribution(inducing_points.size(0))\n",
        "        variational_strategy = gpytorch.variational.VariationalStrategy(\n",
        "            self, inducing_points, variational_distribution, learn_inducing_locations=True)\n",
        "        super().__init__(variational_strategy)\n",
        "        self.mean_module = gpytorch.means.ConstantMean()\n",
        "        self.covar_module = gpytorch.kernels.ScaleKernel(gpytorch.kernels.RBFKernel()) # mettre un kernel polynomial => gpytorch.kernels.PolynomialKernel(power) surement mieux et adéquation avec la SVM\n",
        "\n",
        "    def forward(self, x):\n",
        "        mean_x = self.mean_module(x)\n",
        "        covar_x = self.covar_module(x)\n",
        "        return gpytorch.distributions.MultivariateNormal(mean_x, covar_x)"
      ]
    },
    {
      "cell_type": "markdown",
      "metadata": {
        "id": "WWkau0RyZ_iU"
      },
      "source": [
        "Faire les explication des étapes de la fonction et comment on les a fait.\n",
        "\n",
        "On prend une partie des données que l'on utiliser pour entrainer notre SVGP.\n",
        "\n",
        "On convertie ensuite nos tableau numpy en tensor pour pouvoir bien utiliser notre GP\n",
        "\n",
        "Initilisation du modèle:\n",
        "\n",
        "Entrainement du modèle:\n",
        "\n",
        "Prédiction de la variance sur les données:\n",
        "\n",
        "Séparation des données:"
      ]
    },
    {
      "cell_type": "code",
      "execution_count": 14,
      "metadata": {
        "id": "EsyQ-NamnA20"
      },
      "outputs": [],
      "source": [
        "def split_data_bayes_torch(data, labels, test_size=0.2, val_size=0.2):\n",
        "    X_train, _, _, y_train, _, _ = split_data(data, labels, 0.475, 0.475)\n",
        "\n",
        "    # Convertir les tableau numpy en tensor\n",
        "    X_train = torch.tensor(X_train, dtype=torch.float32)\n",
        "    y_train = torch.tensor(y_train, dtype=torch.float32)\n",
        "    data_tensor = torch.tensor(data, dtype=torch.float32)\n",
        "    labels_tensor = torch.tensor(labels, dtype=torch.float32)\n",
        "\n",
        "    # Initialisation du modèle avec une petite partie des données\n",
        "    model = SVGPModel(X_train)\n",
        "    likelihood = gpytorch.likelihoods.GaussianLikelihood()\n",
        "\n",
        "    # Entrainement du modèle\n",
        "    model.train()\n",
        "    likelihood.train()\n",
        "    optimizer = torch.optim.Adam(model.parameters(), lr=0.1)\n",
        "    mll = gpytorch.mlls.VariationalELBO(likelihood, model, num_data=data_tensor.size(0))\n",
        "\n",
        "    max_iters = 2000\n",
        "    previous_loss = float('inf')\n",
        "    tolerance = 1e-3  # Critère d’arrêt\n",
        "\n",
        "    for i in range(max_iters): # utiliser de minibatch\n",
        "        optimizer.zero_grad()\n",
        "        output = model(data_tensor)\n",
        "        loss = -mll(output, labels_tensor)\n",
        "        loss.backward()\n",
        "        optimizer.step()\n",
        "\n",
        "        if abs(previous_loss - loss.item()) < tolerance:\n",
        "            # print(f\"Arrêt après {i+1} itérations, perte stabilisée à {loss.item():.4f}\")\n",
        "            break\n",
        "\n",
        "        previous_loss = loss.item()\n",
        "\n",
        "    # Prédiction de la variance sur les données\n",
        "    model.eval()\n",
        "    likelihood.eval()\n",
        "\n",
        "    with torch.no_grad():\n",
        "        pred = likelihood(model(data_tensor))\n",
        "        uncertainty = pred.variance  # Incertitude bayésienne\n",
        "\n",
        "    # Séparation des données\n",
        "    # On a un problème, avec la prédiction on a beaucoup de fois la meme valeur donc les quantiles sont égaux donc on rajoute un léger bruit pour éviter ce problème\n",
        "\n",
        "    noise = torch.randn_like(uncertainty) * 1e-6\n",
        "    uncertainty = uncertainty + noise  # Ajouter le bruit\n",
        "\n",
        "    # print(uncertainty)\n",
        "\n",
        "    # Seuils pour le test et validation\n",
        "    q1 = torch.quantile(uncertainty, 1 - test_size - val_size)\n",
        "    q2 = torch.quantile(uncertainty, 1 - test_size)\n",
        "\n",
        "    # print(q1, q2)\n",
        "\n",
        "    # On va avoir les données avec le moins d'incertitudes pour le test et les données avec le plus d'incertitude pour la validation (est ce que l'on doit bien les mettre dans ce sens là?)\n",
        "\n",
        "    idx_train = torch.where(uncertainty <= q1)[0]  # Faible incertitude -> Train\n",
        "    idx_val = torch.where((uncertainty > q1) & (uncertainty <= q2))[0]  # Incertitude moyenne -> Validation\n",
        "    idx_test = torch.where(uncertainty > q2)[0]  # Forte incertitude -> Test\n",
        "\n",
        "    X_train, y_train = data[idx_train], labels[idx_train]\n",
        "    X_val, y_val = data[idx_val], labels[idx_val]\n",
        "    X_test, y_test = data[idx_test], labels[idx_test]\n",
        "\n",
        "    return X_train, X_val, X_test, y_train, y_val, y_test"
      ]
    },
    {
      "cell_type": "markdown",
      "metadata": {
        "id": "prvk03NEx9gj"
      },
      "source": [
        "Pour la suite, nous allons utiliser cette dernière méthode pour séparer nos données car on va le voir par la suite mais elle est meilleure que la séparation aléatoire et n'est pas une boite noire comme peut l'être celle avec les fonction de `sklearn`."
      ]
    },
    {
      "cell_type": "markdown",
      "metadata": {
        "id": "aLb-BL_kpcn6"
      },
      "source": [
        "### 2. Validation des hyperparamètres avec validation croisée et entrainement du modèle"
      ]
    },
    {
      "cell_type": "markdown",
      "metadata": {
        "id": "8iJg9NxVuhRE"
      },
      "source": [
        "[lien](https://medium.com/@prayushshrestha89/tuning-svm-hyperparameters-making-your-classifier-shine-like-a-pro-8673639ddb16) pour les hyperparamètre pour les SVM.\n",
        "\n",
        "Le choix de nos paramètres pour notre SVM:\n",
        "\n",
        "\n",
        "*   kernel polynomial pour essayer d'avoir la meilleur découpe (attention à l'overfitting)\n",
        "*   gamma = 1 (voir 0,1) pour avoir une vue d'ensemble et ne pas se concentrer sur chaque inperfection dans les données\n",
        "*   C = 1 (voir 10), ça a l'air bien pour nous mais j'ai pas bien compris l'impact que ce paramètre a sur le modèle\n",
        "*   degree = 3 ou 4, pas trop pour éviter l'overfitting mais assez pour avoir les bénéfices de du noyau\n",
        "\n",
        "sur l'article on voit qu'avec le noyau rbf on un résultat très similaire avec celui d'un noyau polynomial de degré 2, c'est normal ou juste un coup de chance (je pense pour la première option mais je suis pas sur)"
      ]
    },
    {
      "cell_type": "markdown",
      "metadata": {
        "id": "7JJlHxI4lejY"
      },
      "source": [
        "On cherche les meileurs paramètres gamma, C et degree pour avoir le meilleur modèle possible.\n",
        "\n",
        "On va faire varier:\n",
        "- le type de kernel\n",
        "- gamma qui va prendre les valeurs 0.1, 1, 10\n",
        "- C de la meme façon\n",
        "- degré égal à 2, 3 ou 4"
      ]
    },
    {
      "cell_type": "code",
      "execution_count": 15,
      "metadata": {
        "id": "Br7xFDPgpb5m"
      },
      "outputs": [],
      "source": [
        "def model(X_train, y_train):\n",
        "    param = {\n",
        "        'kernel': ['poly'], # , 'rbf'\n",
        "        'C': [0.1, 1, 10],\n",
        "        'gamma': [1],\n",
        "        'degree': [2, 3, 4]  # Seulement pour 'poly'\n",
        "    }\n",
        "\n",
        "    svm = SVC(probability=True, random_state=42)\n",
        "    grid_search = GridSearchCV(svm, param, cv=5, n_jobs=-1, scoring='accuracy')\n",
        "    X_train_subset, _, y_train_subset, _ = train_test_split(X_train, y_train, train_size=2000, random_state=42, stratify=y_train)\n",
        "    grid_search.fit(X_train_subset, y_train_subset)\n",
        "\n",
        "    best_params = grid_search.best_params_\n",
        "\n",
        "    print(\"Meilleurs paramètres sélectionnés :\", best_params)\n",
        "\n",
        "    best_model = grid_search.best_estimator_\n",
        "    return best_model"
      ]
    },
    {
      "cell_type": "markdown",
      "metadata": {
        "id": "J1bF8B75pkma"
      },
      "source": [
        "## Etape 3: Déterminer le seuil"
      ]
    },
    {
      "cell_type": "markdown",
      "metadata": {
        "id": "Kkx2q_HjuYe0"
      },
      "source": [
        "Ici, on ne cherche pas juste à classifier, mais à réaliser un test d’hypothèse. L’idée est de fixer un seuil alpha pour contrôler l’erreur et maximiser la puissance du test.\n",
        "\n",
        "Avec un SVC, chaque observation Xi reçoit une probabilité d’appartenir à la classe 1. Par défaut, on prédit 1 si la probabilité dépasse 0.5, sinon 0. Mais ce seuil peut être ajusté pour mieux contrôler l’erreur de type I.\n",
        "\n",
        "Pour ça, on peut utiliser la fonction roc_curve de sklearn afin de trouver le seuil qui garantit une erreur de type I égale à alpha. Ensuite, on devra valider ce seuil sur de nouvelles données."
      ]
    },
    {
      "cell_type": "code",
      "execution_count": 16,
      "metadata": {
        "id": "4J-o89w3pkMo"
      },
      "outputs": [],
      "source": [
        "def find_optimal_threshold(X_val, y_val, svm_model, alpha):\n",
        "    y_pred_proba = svm_model.predict_proba(X_val)[:, 1]\n",
        "    fpr, tpr, thresholds = roc_curve(y_val, y_pred_proba) # erreur de type I, erreur de type II (=puissance) et seuil\n",
        "    idx = np.argmin(np.abs(fpr - alpha))\n",
        "    return fpr[idx], tpr[idx], thresholds[idx]"
      ]
    },
    {
      "cell_type": "markdown",
      "metadata": {
        "id": "IOxG5xdrpsf8"
      },
      "source": [
        "## Etape 4: Déterminer la précision de notre modèle"
      ]
    },
    {
      "cell_type": "markdown",
      "metadata": {
        "id": "Sp0IQXlPJOPP"
      },
      "source": [
        "Pour pouvoir déterminer la précision de notre modèle, on va tout d'abord déterminer la probabilité de détecter un changement climatique. On va ensuite comparer cette probabilité avec le seuil que l'on a déterminer précédemment. Si la probabilité est supérieure au seuil alors on détecte un changement climatique. Cela permet d'allier la puissance des SVM et celle des tests statistiques. ensuite on peut comparer les valeurs prédites avec les valeurs exactes pour avoir la précision."
      ]
    },
    {
      "cell_type": "code",
      "execution_count": 17,
      "metadata": {
        "id": "j6ig_08XQaQF"
      },
      "outputs": [],
      "source": [
        "def model_accuracy(X_test, y_test, svm_model, thresholds):\n",
        "    score = svm_model.decision_function(X_test)\n",
        "    y_pred = (score > thresholds).astype(int)\n",
        "    accuracy = accuracy_score(y_test, y_pred)\n",
        "    return accuracy"
      ]
    },
    {
      "cell_type": "markdown",
      "metadata": {
        "id": "s7b0-7nlp1xz"
      },
      "source": [
        "## Etape 5: Score du modèle"
      ]
    },
    {
      "cell_type": "code",
      "execution_count": 18,
      "metadata": {
        "id": "AJKsK4WPivqj"
      },
      "outputs": [],
      "source": [
        "def evaluate_model(X_val, y_val, X_test, y_test, alpha, svm_model):\n",
        "    fpr, tpr, threshold = find_optimal_threshold(X_val, y_val, svm_model, alpha)\n",
        "    accuracy = model_accuracy(X_test, y_test, svm_model, threshold)\n",
        "    return fpr, tpr, accuracy"
      ]
    },
    {
      "cell_type": "code",
      "execution_count": 19,
      "metadata": {
        "id": "ajOWnCZwp1YF"
      },
      "outputs": [],
      "source": [
        "def score_model(data, labels, alpha): # Changer le nom en train_score_model\n",
        "    X_train, X_val, X_test, y_train, y_val, y_test = split_data_bayes_torch(data, labels)\n",
        "    svm_model = model(X_train, y_train)\n",
        "    fpr, tpr, accuracy = evaluate_model(X_val, y_val, X_test, y_test, alpha, svm_model)\n",
        "    return svm_model, fpr, tpr, accuracy"
      ]
    },
    {
      "cell_type": "code",
      "execution_count": 20,
      "metadata": {
        "id": "EcHuiKZ0eBUm"
      },
      "outputs": [
        {
          "name": "stdout",
          "output_type": "stream",
          "text": [
            "Meilleurs paramètres sélectionnés : {'C': 0.1, 'degree': 3, 'gamma': 1, 'kernel': 'poly'}\n",
            "Avec la séparation classique\n",
            "Puissance du test: 0.8283261802575107\n",
            "Précision du modèle: 0.8875\n",
            "Erreur de type I: 0.04993252361673414\n"
          ]
        }
      ],
      "source": [
        "X_train, X_val, X_test, y_train, y_val, y_test = split_data(data, labels)\n",
        "svm_model_classic = model(X_train, y_train)\n",
        "fpr, tpr, threshold = find_optimal_threshold(X_val, y_val, svm_model_classic, 0.05)\n",
        "accuracy = model_accuracy(X_test, y_test, svm_model_classic, threshold)\n",
        "\n",
        "print(\"Avec la séparation classique\")\n",
        "print(f\"Puissance du test: {tpr}\")\n",
        "print(f\"Précision du modèle: {accuracy}\")\n",
        "print(f\"Erreur de type I: {fpr}\")"
      ]
    },
    {
      "cell_type": "code",
      "execution_count": 21,
      "metadata": {
        "id": "aOowrh5z1x5f"
      },
      "outputs": [
        {
          "name": "stdout",
          "output_type": "stream",
          "text": [
            "Meilleurs paramètres sélectionnés : {'C': 0.1, 'degree': 3, 'gamma': 1, 'kernel': 'poly'}\n",
            "Avec la séparation bayésienne\n",
            "Puissance du test: 0.8903924221921515\n",
            "Précision du modèle: 0.89086859688196\n",
            "Erreur de type I: 0.04945054945054945\n"
          ]
        }
      ],
      "source": [
        "svm_model, errI, pwr, accuracy = score_model(data, labels, 0.05)\n",
        "print(\"Avec la séparation bayésienne\")\n",
        "print(f\"Puissance du test: {pwr}\")\n",
        "print(f\"Précision du modèle: {accuracy}\")\n",
        "print(f\"Erreur de type I: {errI}\")"
      ]
    },
    {
      "cell_type": "markdown",
      "metadata": {
        "id": "LdJE5-ABsJWL"
      },
      "source": [
        "### Test sur $\\alpha$"
      ]
    },
    {
      "cell_type": "code",
      "execution_count": 22,
      "metadata": {
        "id": "8OFMhiPZsUot"
      },
      "outputs": [],
      "source": [
        "list_alpha = [0.01, 0.02, 0.03, 0.04, 0.05, 0.06, 0.07, 0.08, 0.09, 0.1, 0.15, 0.2, 0.3]\n",
        "\n",
        "res_pwr = np.array([])\n",
        "res_accuracy = np.array([])\n",
        "res_errI = np.array([])\n",
        "res_pwr_classic = np.array([])\n",
        "res_accuracy_classic = np.array([])\n",
        "res_errI_classic = np.array([])\n",
        "\n",
        "X_train, X_val, X_test, y_train, y_val, y_test = split_data_bayes_torch(data, labels)\n",
        "X_train2, X_val2, X_test2, y_train2, y_val2, y_test2 = split_data(data, labels)\n",
        "\n",
        "for alpha in list_alpha:\n",
        "\n",
        "    fpr, tpr, accuracy = evaluate_model(X_val, y_val, X_test, y_test, alpha, svm_model)\n",
        "    c_fpr, c_tpr, c_accuracy = evaluate_model(X_val2, y_val2, X_test2, y_test2, alpha, svm_model_classic)\n",
        "\n",
        "    res_pwr = np.append(res_pwr, tpr)\n",
        "    res_accuracy = np.append(res_accuracy, accuracy)\n",
        "    res_errI = np.append(res_errI, fpr)\n",
        "\n",
        "    res_pwr_classic = np.append(res_pwr_classic, c_tpr)\n",
        "    res_accuracy_classic = np.append(res_accuracy_classic, c_accuracy)\n",
        "    res_errI_classic = np.append(res_errI_classic, c_fpr)\n"
      ]
    },
    {
      "cell_type": "code",
      "execution_count": 23,
      "metadata": {
        "id": "kV5bAm4Nw3Dm"
      },
      "outputs": [
        {
          "data": {
            "image/png": "[encoded data removed]",
            "text/plain": [
              "<Figure size 1500x500 with 3 Axes>"
            ]
          },
          "metadata": {},
          "output_type": "display_data"
        }
      ],
      "source": [
        "plt.figure(figsize=(15, 5))\n",
        "\n",
        "# Plot de la puissance (TPR)\n",
        "plt.subplot(1, 3, 1)\n",
        "plt.plot(list_alpha, res_pwr, marker='o', label='Bayes')\n",
        "plt.plot(list_alpha, res_pwr_classic, marker='s', label='Classique')\n",
        "plt.xlabel(\"Alpha\")\n",
        "plt.ylabel(\"Puissance (TPR)\")\n",
        "plt.title(\"Comparaison de la puissance\")\n",
        "plt.legend()\n",
        "\n",
        "# Plot de la précision (Accuracy)\n",
        "plt.subplot(1, 3, 2)\n",
        "plt.plot(list_alpha, res_accuracy, marker='o', label='Bayes')\n",
        "plt.plot(list_alpha, res_accuracy_classic, marker='s', label='Classique')\n",
        "plt.xlabel(\"Alpha\")\n",
        "plt.ylabel(\"Précision\")\n",
        "plt.title(\"Comparaison de la précision\")\n",
        "plt.legend()\n",
        "\n",
        "# Plot de l'erreur de type I (FPR)\n",
        "plt.subplot(1, 3, 3)\n",
        "plt.plot(list_alpha, res_errI, marker='o', label='Bayes')\n",
        "plt.plot(list_alpha, res_errI_classic, marker='s', label='Classique')\n",
        "plt.xlabel(\"Alpha\")\n",
        "plt.ylabel(\"Erreur de Type I (FPR)\")\n",
        "plt.title(\"Comparaison de l'erreur de Type I\")\n",
        "plt.legend()\n",
        "\n",
        "plt.tight_layout()\n",
        "plt.show()"
      ]
    },
    {
      "cell_type": "markdown",
      "metadata": {
        "id": "51XfzojIRa-T"
      },
      "source": [
        "On observe que le modèle avec la séparation bayesienne est a une puissance du test et une précision nettement meilleure que le modèle avec la séparation classique.\n"
      ]
    },
    {
      "cell_type": "markdown",
      "metadata": {
        "id": "tuQT5pt3mngh"
      },
      "source": [
        "# Test sur les observations"
      ]
    },
    {
      "cell_type": "markdown",
      "metadata": {
        "id": "a5-9F_5pmtx1"
      },
      "source": [
        "## Extraction des données d'observation"
      ]
    },
    {
      "cell_type": "markdown",
      "metadata": {
        "id": "lPVfmKnPm_UI"
      },
      "source": [
        "Path pour l'extraction des données d'observation."
      ]
    },
    {
      "cell_type": "markdown",
      "metadata": {
        "id": "bKoLwnpGnUgQ"
      },
      "source": [
        "On commence par extraire et trater nos données d'observation."
      ]
    },
    {
      "cell_type": "markdown",
      "metadata": {
        "id": "sAtM9NrrnaOH"
      },
      "source": [
        "On convertie la date dans le format souhaité."
      ]
    },
    {
      "cell_type": "code",
      "execution_count": 24,
      "metadata": {
        "id": "24QBzIyJnTRP"
      },
      "outputs": [],
      "source": [
        "obs['date'] = pd.to_datetime(obs['date'], format='%Y%m%d') # convertion de la date"
      ]
    },
    {
      "cell_type": "markdown",
      "metadata": {
        "id": "unQnlqW8niG3"
      },
      "source": [
        "On réduit la dimension des données."
      ]
    },
    {
      "cell_type": "code",
      "execution_count": 25,
      "metadata": {
        "id": "zprqy2dUnhuC"
      },
      "outputs": [],
      "source": [
        "def reduce_granularity_obs(ds, target_points):\n",
        "    lat_points = ds.sizes['latitude']\n",
        "    lon_points = ds.sizes['longitude']\n",
        "    total_points = lat_points * lon_points\n",
        "    factor = int(np.sqrt(total_points / target_points))\n",
        "    ds_reduced = ds.coarsen(latitude=factor, longitude=factor, boundary='trim').mean()\n",
        "    return ds_reduced"
      ]
    },
    {
      "cell_type": "code",
      "execution_count": 26,
      "metadata": {
        "id": "HnCbBhh1noE-"
      },
      "outputs": [],
      "source": [
        "obs = reduce_granularity_obs(obs, np.shape(data)[1])"
      ]
    },
    {
      "cell_type": "markdown",
      "metadata": {
        "id": "AvHs0VZ5nhPW"
      },
      "source": [
        "On calcul la saisonalité."
      ]
    },
    {
      "cell_type": "code",
      "execution_count": 27,
      "metadata": {
        "id": "d6LYMVtNngZN"
      },
      "outputs": [
        {
          "name": "stdout",
          "output_type": "stream",
          "text": [
            "<xarray.DataArray 'date' ()> Size: 8B\n",
            "array('1950-01-01T00:00:00.000000000', dtype='datetime64[ns]')\n",
            "Coordinates:\n",
            "    number   int64 8B 0\n",
            "    date     datetime64[ns] 8B 1950-01-01\n",
            "    expver   <U4 16B '0001'\n"
          ]
        }
      ],
      "source": [
        "print(obs['date'].isel(date=120))"
      ]
    },
    {
      "cell_type": "code",
      "execution_count": 28,
      "metadata": {
        "id": "iSE281m5nfNU"
      },
      "outputs": [],
      "source": [
        "data_past = obs.isel(date=slice(0, 120)) # on choisit les 50 premières dates pour représenter le passé\n",
        "\n",
        "seasonalities = data_past.groupby('date.month').mean(\"date\")\n",
        "\n",
        "anomalies_obs = obs.groupby('date.month') - seasonalities\n",
        "anomalies_obs = anomalies_obs.resample(date='1YE').mean()"
      ]
    },
    {
      "cell_type": "markdown",
      "metadata": {
        "id": "U1lMQP5sneUV"
      },
      "source": [
        "On réduit la dimension."
      ]
    },
    {
      "cell_type": "code",
      "execution_count": 29,
      "metadata": {
        "id": "86MKiYElnwOv"
      },
      "outputs": [],
      "source": [
        "date, longitude, latitude = anomalies_obs.sizes['date'], anomalies_obs.sizes['longitude'], anomalies_obs.sizes['latitude']\n",
        "anomalies_obs = np.array(anomalies_obs.to_dataarray())\n",
        "anomalies_obs = anomalies_obs.reshape(date, longitude * latitude)"
      ]
    },
    {
      "cell_type": "markdown",
      "metadata": {
        "id": "LmO9Ssvl3d3p"
      },
      "source": [
        "En faire une fonction (pas sur qu'elle soit vraiment utile)"
      ]
    },
    {
      "cell_type": "code",
      "execution_count": 30,
      "metadata": {
        "id": "rkRXRwEy3hKd"
      },
      "outputs": [],
      "source": [
        "def traitement_data_obs(path_obs, file_mane, start_past, end_past, start_present, end_present, n_pt):\n",
        "    obs = xr.open_dataset(path_obs + '/' + file_name)\n",
        "    print(f\"Processing file: {file_name}\")\n",
        "\n",
        "    obs['date'] = pd.to_datetime(obs['date'], format='%Y%m%d') # convertion de la date\n",
        "\n",
        "    obs = reduce_granularity_obs(obs, n_pt)\n",
        "\n",
        "    data_past = obs.isel(date=slice(0, 120)) # on choisit les 50 premières dates pour représenter le passé\n",
        "\n",
        "    seasonalities = data_past.groupby('date.month').mean(\"date\")\n",
        "\n",
        "    anomalies_obs = obs.groupby('date.month') - seasonalities\n",
        "    anomalies_obs = anomalies_obs.resample(date='1YE').mean()\n",
        "\n",
        "    date, longitude, latitude = anomalies_obs.sizes['date'], anomalies_obs.sizes['longitude'], anomalies_obs.sizes['latitude']\n",
        "    anomalies_obs = np.array(anomalies_obs.to_dataarray())\n",
        "    anomalies_obs = anomalies_obs.reshape(date, longitude * latitude)\n",
        "\n",
        "    return anomalies_obs"
      ]
    },
    {
      "cell_type": "code",
      "execution_count": 31,
      "metadata": {
        "id": "d2O0Sve24iAQ"
      },
      "outputs": [
        {
          "name": "stdout",
          "output_type": "stream",
          "text": [
            "Processing file: ERA5_1940-2024_Monthly_TAS.nc\n"
          ]
        }
      ],
      "source": [
        "anomalies_obs = traitement_data_obs(path_obs, file_name, start_past, end_past, start_present, end_present, np.shape(data)[1])"
      ]
    },
    {
      "cell_type": "markdown",
      "metadata": {
        "id": "S8_hTENdnv2q"
      },
      "source": [
        "## Application du modèle"
      ]
    },
    {
      "cell_type": "markdown",
      "metadata": {
        "id": "zNGVtEQ7oCr1"
      },
      "source": [
        "On donne nos données d'observation au modèle que l'on a entrainé pour qu'il nous retour si il y a un changement climatique ou non pour chacune des années."
      ]
    },
    {
      "cell_type": "code",
      "execution_count": 32,
      "metadata": {
        "id": "ruXWMt6bnvVn"
      },
      "outputs": [],
      "source": [
        "X_obs = anomalies_obs\n",
        "y_obs = svm_model.predict(X_obs)"
      ]
    },
    {
      "cell_type": "code",
      "execution_count": 33,
      "metadata": {
        "id": "sJLM08yQXm8d"
      },
      "outputs": [
        {
          "data": {
            "image/png": "[encoded data removed]",
            "text/plain": [
              "<Figure size 640x480 with 1 Axes>"
            ]
          },
          "metadata": {},
          "output_type": "display_data"
        }
      ],
      "source": [
        "val = np.arange(1940, 1940 + 85, 1)\n",
        "plt.plot(val, y_obs, 'o')\n",
        "plt.xlabel('Année')\n",
        "plt.ylabel('Label (1 = Chgt climatique)')\n",
        "plt.title('Graphique de la détection du changement climatique en fonction des années grace au svm non linéaire')\n",
        "plt.show()"
      ]
    },
    {
      "cell_type": "markdown",
      "metadata": {
        "id": "g1xzWXBdMvbB"
      },
      "source": [
        "## Sur une partie du monde"
      ]
    },
    {
      "cell_type": "markdown",
      "metadata": {
        "id": "67y9Mi69M_LX"
      },
      "source": [
        "Avec cette fonction, on va pouvoir séléctionner uniquement les données dans une région spécifique (dans le carré délimiter par deux valeurs de latitudes et longitudes).\n",
        "\n",
        "Pas exemple, pour l'Amérique du nord, l'encadrement ce fait avec 83°N et 7°N pour la latitude et 172°W et 52°W pour la longitude et pour l'Europe 71°N, 36°N, 25°W et 50°E"
      ]
    },
    {
      "cell_type": "code",
      "execution_count": 34,
      "metadata": {
        "id": "OkY_tYC2M-K_"
      },
      "outputs": [],
      "source": [
        "def create_tab_region(path, start_past, end_past, start_present, end_present, n_f, nb_pts, lat_min, lat_max, long_min, long_max):\n",
        "    if n_f == 0 or n_f > 50:\n",
        "        n = 50\n",
        "    else:\n",
        "        n = n_f\n",
        "\n",
        "    all_data = []\n",
        "    all_labels = []\n",
        "\n",
        "    for file_name in os.listdir(path)[:n]:\n",
        "        full_path = os.path.join(path, file_name)\n",
        "        xarray = xr.open_dataset(full_path)\n",
        "\n",
        "        # xarray = xarray.sel(lat=slice(lat_min, lat_max), lon=slice(long_min, long_max)) # ne fonctionne pas pour la latitude\n",
        "\n",
        "        xarray = xarray.where((xarray.lat >= lat_min) & (xarray.lat <= lat_max) &\n",
        "                          (xarray.lon >= long_min) & (xarray.lon <= long_max),\n",
        "                          drop=True)\n",
        "\n",
        "        past, present = traitement_data(xarray, start_past, end_past, start_present, end_present, nb_pts)\n",
        "\n",
        "        time_p, lat_p, lon_p = past.shape\n",
        "        past_reshaped = past.reshape((time_p, lat_p * lon_p))\n",
        "        labels_past = np.zeros((time_p, 1))  # Label 0 pour le passé\n",
        "\n",
        "        time_c, lat_c, lon_c = present.shape\n",
        "        present_reshaped = present.reshape((time_c, lat_c * lon_c))\n",
        "        labels_present = np.ones((time_c, 1))  # Label 1 pour le présent\n",
        "\n",
        "        all_data.append(np.vstack((past_reshaped, present_reshaped)))\n",
        "        all_labels.append(np.vstack((labels_past, labels_present)))\n",
        "\n",
        "    all_data = np.vstack(all_data)\n",
        "    all_labels = np.vstack(all_labels)\n",
        "\n",
        "    return all_data, all_labels"
      ]
    },
    {
      "cell_type": "code",
      "execution_count": 35,
      "metadata": {
        "id": "5_k9vAw7FnsY"
      },
      "outputs": [],
      "source": [
        "def reduce_granularity_obs2(ds, target_points):\n",
        "    lat_points = ds.sizes['latitude']\n",
        "    lon_points = ds.sizes['longitude']\n",
        "\n",
        "    # Ratio original de la grille\n",
        "    aspect_ratio = lat_points / lon_points\n",
        "\n",
        "    # Trouver la meilleure approximation de (lat_out, lon_out)\n",
        "    lat_out = int(round(np.sqrt(target_points * aspect_ratio)))\n",
        "    lon_out = int(round(target_points / lat_out))\n",
        "\n",
        "    # Vérification finale\n",
        "    if lat_out * lon_out != target_points:\n",
        "        print(f\"Impossible d'avoir exactement {target_points} points, ajustement à {lat_out * lon_out}.\")\n",
        "\n",
        "    # Assurer que les valeurs interpolées restent bien dans l'encadrement d'origine\n",
        "    print(f\"Latitude min: {ds.latitude.values.min()}, Latitude max: {ds.latitude.values.max()}\")\n",
        "    print(f\"Longitude min: {ds.longitude.values.min()}, Longitude max: {ds.longitude.values.max()}\")\n",
        "\n",
        "    new_lat = np.linspace(ds.latitude.values.min(), ds.latitude.values.max(), lat_out, endpoint=True)\n",
        "    new_lon = np.linspace(ds.longitude.values.min(), ds.longitude.values.max(), lon_out, endpoint=True)\n",
        "\n",
        "    # Interpolation\n",
        "    ds_reduced = ds.interp(latitude=new_lat, longitude=new_lon, method=\"linear\")\n",
        "\n",
        "    return ds_reduced"
      ]
    },
    {
      "cell_type": "code",
      "execution_count": 36,
      "metadata": {
        "id": "RBPggA4l09Ly"
      },
      "outputs": [],
      "source": [
        "def plot_anomalies(anomalies_obs_AM, latitudes, longitudes, date_index=-1, zoom_extent=None):\n",
        "    \"\"\"\n",
        "    Trace une carte des anomalies pour une date donnée avec possibilité de zoom sur une région personnalisée.\n",
        "\n",
        "    Parameters:\n",
        "        anomalies_obs_AM (numpy.ndarray): Tableau 3D des anomalies (date, latitude, longitude)\n",
        "        latitudes (numpy.ndarray): Tableau des latitudes\n",
        "        longitudes (numpy.ndarray): Tableau des longitudes\n",
        "        date_index (int): Index de la date à afficher (par défaut la dernière)\n",
        "        zoom_extent (list or tuple, optional): [lon_min, lon_max, lat_min, lat_max] pour définir la zone de zoom\n",
        "    \"\"\"\n",
        "    # Vérification des dimensions pour éviter les erreurs de reshape\n",
        "    if anomalies_obs_AM.shape[1] != len(latitudes) or anomalies_obs_AM.shape[2] != len(longitudes):\n",
        "        raise ValueError(\"Les dimensions des anomalies ne correspondent pas aux latitudes et longitudes fournies.\")\n",
        "\n",
        "    # Extraire la carte des anomalies pour la date spécifiée\n",
        "    anomalies_map = anomalies_obs_AM[date_index]\n",
        "\n",
        "    fig, ax = plt.subplots(subplot_kw={'projection': ccrs.PlateCarree()}, figsize=(10, 6))\n",
        "\n",
        "    # Convertir les longitudes de [0, 360] à [-180, 180] si nécessaire\n",
        "    # longitudes = np.where(longitudes > 180, longitudes - 360, longitudes)\n",
        "\n",
        "    latitudes = np.where(latitudes > 90, latitudes - 180, latitudes)\n",
        "\n",
        "    # Vérification avant de définir l'extension\n",
        "    if np.isnan(longitudes.min()) or np.isnan(longitudes.max()) or np.isnan(latitudes.min()) or np.isnan(latitudes.max()):\n",
        "        raise ValueError(\"Erreur : Les coordonnées contiennent des NaN.\")\n",
        "\n",
        "    if np.isinf(longitudes.min()) or np.isinf(longitudes.max()) or np.isinf(latitudes.min()) or np.isinf(latitudes.max()):\n",
        "        raise ValueError(\"Erreur : Les coordonnées contiennent des valeurs infinies.\")\n",
        "\n",
        "    # Définir l'étendue de la carte\n",
        "    if zoom_extent:\n",
        "        ax.set_extent(zoom_extent, crs=ccrs.PlateCarree())\n",
        "    else:\n",
        "        ax.set_extent([longitudes.min(), longitudes.max(), latitudes.min(), latitudes.max()], crs=ccrs.PlateCarree())\n",
        "\n",
        "\n",
        "    ax.add_feature(cfeature.COASTLINE)\n",
        "    ax.add_feature(cfeature.BORDERS, linestyle=':')\n",
        "\n",
        "    # Afficher les anomalies avec un colormap\n",
        "    # im = ax.pcolormesh(longitudes, latitudes, anomalies_map, transform=ccrs.PlateCarree(), cmap='coolwarm')\n",
        "\n",
        "    lon_grid, lat_grid = np.meshgrid(longitudes, latitudes)\n",
        "    im = ax.pcolormesh(lon_grid, lat_grid, anomalies_map, transform=ccrs.PlateCarree(), cmap='coolwarm')\n",
        "\n",
        "\n",
        "    # Ajouter une barre de couleur\n",
        "    cbar = plt.colorbar(im, ax=ax, orientation='vertical', shrink=0.7)\n",
        "    cbar.set_label('Anomalies')\n",
        "\n",
        "    plt.title(f'Carte des Anomalies - Date index {date_index}')\n",
        "    plt.show()"
      ]
    },
    {
      "cell_type": "code",
      "execution_count": 37,
      "metadata": {
        "id": "JU9767c8zmix"
      },
      "outputs": [
        {
          "name": "stdout",
          "output_type": "stream",
          "text": [
            "Processing file: ERA5_1940-2024_Monthly_TAS.nc\n"
          ]
        }
      ],
      "source": [
        "obs = xr.open_dataset(path_obs + '/' + file_name)\n",
        "print(f\"Processing file: {file_name}\")\n",
        "\n",
        "obs['date'] = pd.to_datetime(obs['date'], format='%Y%m%d') # convertion de la date"
      ]
    },
    {
      "cell_type": "markdown",
      "metadata": {
        "id": "-64Kj-DpyUch"
      },
      "source": [
        "### Pour l'Amérique du Nord"
      ]
    },
    {
      "cell_type": "markdown",
      "metadata": {
        "id": "RxeRTiYKyjHG"
      },
      "source": [
        "Création du modèle"
      ]
    },
    {
      "cell_type": "code",
      "execution_count": 38,
      "metadata": {
        "id": "YyKBQxPONGIa"
      },
      "outputs": [],
      "source": [
        "data_AM, labels_AM = create_tab_region(path, start_past, end_past, start_present, end_present, nb_fichiers, 750, 15, 73, 188, 308)\n",
        "labels_AM = labels_AM.ravel()"
      ]
    },
    {
      "cell_type": "code",
      "execution_count": 39,
      "metadata": {
        "id": "25jbpWg9TyIo"
      },
      "outputs": [
        {
          "name": "stdout",
          "output_type": "stream",
          "text": [
            "Meilleurs paramètres sélectionnés : {'C': 0.1, 'degree': 3, 'gamma': 1, 'kernel': 'poly'}\n",
            "Puissance du test AM: 0.6497175141242938\n"
          ]
        }
      ],
      "source": [
        "svm_model_AM, errI, power_AM, accuracy = score_model(data_AM, labels_AM, 0.05)\n",
        "print(f\"Puissance du test AM: {power_AM}\")"
      ]
    },
    {
      "cell_type": "markdown",
      "metadata": {
        "id": "pXuUHiQH7Jsr"
      },
      "source": [
        "Pour l'Amérique du Nord"
      ]
    },
    {
      "cell_type": "code",
      "execution_count": 40,
      "metadata": {
        "id": "Bd_TdT9m2xw_"
      },
      "outputs": [
        {
          "name": "stdout",
          "output_type": "stream",
          "text": [
            "Latitude min: 15.0, Latitude max: 73.0\n",
            "Longitude min: 188.0, Longitude max: 308.0\n",
            "Latitude min: 15.0, Latitude max: 73.0\n",
            "Longitude min: 188.0, Longitude max: 308.0\n",
            "(85, 1104) 1104\n"
          ]
        }
      ],
      "source": [
        "obs_AM = obs.where((obs.latitude >= 15) & (obs.latitude <= 73) &\n",
        "                          (obs.longitude >= 188) & (obs.longitude <= 308),\n",
        "                          drop=True)\n",
        "\n",
        "print(f\"Latitude min: {obs_AM.latitude.values.min()}, Latitude max: {obs_AM.latitude.values.max()}\")\n",
        "print(f\"Longitude min: {obs_AM.longitude.values.min()}, Longitude max: {obs_AM.longitude.values.max()}\")\n",
        "\n",
        "obs_AM = reduce_granularity_obs2(obs_AM, np.shape(data_AM)[1])\n",
        "\n",
        "data_past = obs_AM.isel(date=slice(0, 120)) # on choisit les 50 premières dates pour représenter le passé\n",
        "\n",
        "seasonalities = data_past.groupby('date.month').mean(\"date\")\n",
        "\n",
        "anomalies_obs = obs_AM.groupby('date.month') - seasonalities\n",
        "anomalies_obs = anomalies_obs.resample(date='1YE').mean()\n",
        "\n",
        "anomalie_AM_map = anomalies_obs\n",
        "longitudes_AM, latitudes_AM = anomalie_AM_map.coords['longitude'].values, anomalie_AM_map.coords['latitude'].values\n",
        "date, longitude, latitude = anomalies_obs.sizes['date'], anomalies_obs.sizes['longitude'], anomalies_obs.sizes['latitude']\n",
        "anomalies_obs = np.array(anomalies_obs.to_dataarray())\n",
        "anomalies_obs_AM = anomalies_obs.reshape(date, longitude * latitude)\n",
        "\n",
        "print(np.shape(anomalies_obs_AM), np.shape(data_AM)[1])"
      ]
    },
    {
      "cell_type": "code",
      "execution_count": 41,
      "metadata": {
        "id": "LM4y7_abT47_"
      },
      "outputs": [
        {
          "name": "stdout",
          "output_type": "stream",
          "text": [
            "-90.0 90.0\n",
            "0.0 359.75\n",
            "15.0 73.0\n",
            "188.0 308.0\n"
          ]
        }
      ],
      "source": [
        "# obs_AM = obs.sel(latitude=slice(15, 73), longitude=slice(188, 308))\n",
        "\n",
        "# mask = (((obs.latitude >= 15) & (obs.latitude <= 73)) &((obs.longitude >= 188) & (obs.longitude <= 308)))\n",
        "\n",
        "# Appliquer le masque\n",
        "# obs_AM = obs.where(mask)\n",
        "\n",
        "print(obs.coords['latitude'].values.min(), obs.coords['latitude'].values.max())\n",
        "print(obs.coords['longitude'].values.min(), obs.coords['longitude'].values.max())\n",
        "\n",
        "print(obs_AM.coords['latitude'].values.min(), obs_AM.coords['latitude'].values.max())\n",
        "print(obs_AM.coords['longitude'].values.min(), obs_AM.coords['longitude'].values.max())"
      ]
    },
    {
      "cell_type": "code",
      "execution_count": 42,
      "metadata": {
        "id": "IUYwbo9KrW5M"
      },
      "outputs": [
        {
          "name": "stdout",
          "output_type": "stream",
          "text": [
            "[15.         17.63636364 20.27272727 22.90909091 25.54545455 28.18181818\n",
            " 30.81818182 33.45454545 36.09090909 38.72727273 41.36363636 44.\n",
            " 46.63636364 49.27272727 51.90909091 54.54545455 57.18181818 59.81818182\n",
            " 62.45454545 65.09090909 67.72727273 70.36363636 73.        ]\n",
            "[188.         190.55319149 193.10638298 195.65957447 198.21276596\n",
            " 200.76595745 203.31914894 205.87234043 208.42553191 210.9787234\n",
            " 213.53191489 216.08510638 218.63829787 221.19148936 223.74468085\n",
            " 226.29787234 228.85106383 231.40425532 233.95744681 236.5106383\n",
            " 239.06382979 241.61702128 244.17021277 246.72340426 249.27659574\n",
            " 251.82978723 254.38297872 256.93617021 259.4893617  262.04255319\n",
            " 264.59574468 267.14893617 269.70212766 272.25531915 274.80851064\n",
            " 277.36170213 279.91489362 282.46808511 285.0212766  287.57446809\n",
            " 290.12765957 292.68085106 295.23404255 297.78723404 300.34042553\n",
            " 302.89361702 305.44680851 308.        ]\n"
          ]
        }
      ],
      "source": [
        "print(latitudes_AM)\n",
        "print(longitudes_AM)"
      ]
    },
    {
      "cell_type": "code",
      "execution_count": 43,
      "metadata": {
        "id": "F1Lwd1RnRok3"
      },
      "outputs": [
        {
          "name": "stdout",
          "output_type": "stream",
          "text": [
            "23\n",
            "48\n",
            "(85, 23, 48)\n"
          ]
        }
      ],
      "source": [
        "print(latitudes_AM.size)\n",
        "print(longitudes_AM.size)\n",
        "anomalies_obs_AM = anomalies_obs_AM.reshape(anomalies_obs_AM.shape[0], latitudes_AM.size, longitudes_AM.size)\n",
        "print(anomalies_obs_AM.shape)"
      ]
    },
    {
      "cell_type": "code",
      "execution_count": 44,
      "metadata": {
        "id": "mr8n9J9VlTeh"
      },
      "outputs": [
        {
          "name": "stderr",
          "output_type": "stream",
          "text": [
            "c:\\Users\\DELSA\\AppData\\Local\\Programs\\Python\\Python312\\Lib\\site-packages\\cartopy\\io\\__init__.py:241: DownloadWarning: Downloading: https://naturalearth.s3.amazonaws.com/110m_physical/ne_110m_coastline.zip\n",
            "  warnings.warn(f'Downloading: {url}', DownloadWarning)\n",
            "c:\\Users\\DELSA\\AppData\\Local\\Programs\\Python\\Python312\\Lib\\site-packages\\cartopy\\io\\__init__.py:241: DownloadWarning: Downloading: https://naturalearth.s3.amazonaws.com/110m_cultural/ne_110m_admin_0_boundary_lines_land.zip\n",
            "  warnings.warn(f'Downloading: {url}', DownloadWarning)\n"
          ]
        },
        {
          "data": {
            "image/png": "[encoded data removed]",
            "text/plain": [
              "<Figure size 1000x600 with 2 Axes>"
            ]
          },
          "metadata": {},
          "output_type": "display_data"
        }
      ],
      "source": [
        "plot_anomalies(anomalies_obs_AM, latitudes_AM, longitudes_AM)"
      ]
    },
    {
      "cell_type": "markdown",
      "metadata": {
        "id": "xfItvrf_69Ed"
      },
      "source": [
        "Test"
      ]
    },
    {
      "cell_type": "code",
      "execution_count": 45,
      "metadata": {
        "id": "xksyIyUF6iia"
      },
      "outputs": [],
      "source": [
        "anomalies_obs_AM = anomalies_obs_AM.reshape(anomalies_obs_AM.shape[0], latitudes_AM.size * longitudes_AM.size)\n",
        "X_obs_AM = anomalies_obs_AM\n",
        "y_obs_AM = svm_model_AM.predict(X_obs_AM)"
      ]
    },
    {
      "cell_type": "code",
      "execution_count": 46,
      "metadata": {
        "id": "hhORyUY07WJC"
      },
      "outputs": [
        {
          "data": {
            "image/png": "[encoded data removed]",
            "text/plain": [
              "<Figure size 640x480 with 1 Axes>"
            ]
          },
          "metadata": {},
          "output_type": "display_data"
        }
      ],
      "source": [
        "val = np.arange(1940, 1940 + 85, 1)\n",
        "plt.plot(val, y_obs_AM, 'o')\n",
        "plt.xlabel('Année')\n",
        "plt.ylabel('Label (1 = Chgt climatique)')\n",
        "plt.title('Graphique de la détection du changement climatique en fonction des années grace au svm non linéaire en Amérique du Nord')\n",
        "plt.show()"
      ]
    },
    {
      "cell_type": "markdown",
      "metadata": {
        "id": "k-jpbiPxyP3I"
      },
      "source": [
        "### Pour l'Europe"
      ]
    },
    {
      "cell_type": "markdown",
      "metadata": {
        "id": "CQihBnn6ypRu"
      },
      "source": [
        "Extraction des données de simulations"
      ]
    },
    {
      "cell_type": "code",
      "execution_count": 47,
      "metadata": {
        "id": "YZOD3mLnzRIO"
      },
      "outputs": [],
      "source": [
        "data_EU, labels_EU = create_tab_region(path, start_past, end_past, start_present, end_present, nb_fichiers, 750, 36, 71, 0, 60)\n",
        "labels_EU = labels_EU.ravel()"
      ]
    },
    {
      "cell_type": "markdown",
      "metadata": {
        "id": "eBafmifE6y9j"
      },
      "source": [
        "Création du modèle"
      ]
    },
    {
      "cell_type": "code",
      "execution_count": 48,
      "metadata": {
        "id": "NOT1yOigzatR"
      },
      "outputs": [
        {
          "name": "stdout",
          "output_type": "stream",
          "text": [
            "Meilleurs paramètres sélectionnés : {'C': 0.1, 'degree': 3, 'gamma': 1, 'kernel': 'poly'}\n",
            "Puissance du test EU: 0.5997023809523809\n"
          ]
        }
      ],
      "source": [
        "svm_model_EU, errI, power_EU, accuracy = score_model(data_EU, labels_EU, 0.05)\n",
        "print(f\"Puissance du test EU: {power_EU}\")"
      ]
    },
    {
      "cell_type": "markdown",
      "metadata": {
        "id": "zKZ7H8PPyyKp"
      },
      "source": [
        "Extraction et traitement des données d'observation"
      ]
    },
    {
      "cell_type": "code",
      "execution_count": 49,
      "metadata": {
        "id": "mMBD2sXGzd2R"
      },
      "outputs": [
        {
          "name": "stdout",
          "output_type": "stream",
          "text": [
            "Impossible d'avoir exactement 336 points, ajustement à 338.\n",
            "Latitude min: -90.0, Latitude max: 90.0\n",
            "Longitude min: 0.0, Longitude max: 359.75\n"
          ]
        }
      ],
      "source": [
        "# obs_EU = obs.sel(longitude=slice(-26.47058824, 47.64705882), latitude=slice(74.5, 37.0))\n",
        "\n",
        "obs_EU = obs.where((obs.longitude >= 0) & (obs.longitude <= 60) &\n",
        "                   (obs.latitude >= 36) & (obs.latitude <= 71), drop=True)\n",
        "\n",
        "anomalie_EU_map = obs_EU\n",
        "longitudes_EU, latitudes_EU = anomalie_EU_map.coords['longitude'].values, anomalie_EU_map.coords['latitude'].values\n",
        "\n",
        "obs_EU = reduce_granularity_obs2(obs, np.shape(data_EU)[1])\n",
        "\n",
        "data_past = obs_EU.isel(date=slice(0, 120)) # on choisit les 50 premières dates pour représenter le passé\n",
        "\n",
        "seasonalities = data_past.groupby('date.month').mean(\"date\")\n",
        "\n",
        "anomalies_obs = obs_EU.groupby('date.month') - seasonalities\n",
        "anomalies_obs = anomalies_obs.resample(date='1YE').mean()\n",
        "\n",
        "date, longitude, latitude = anomalies_obs.sizes['date'], anomalies_obs.sizes['longitude'], anomalies_obs.sizes['latitude']\n",
        "anomalies_obs = np.array(anomalies_obs.to_dataarray())\n",
        "anomalies_obs_EU = anomalies_obs.reshape(date, longitude * latitude)"
      ]
    },
    {
      "cell_type": "markdown",
      "metadata": {
        "id": "nySI2OMPzDX4"
      },
      "source": [
        "Affichage de la carte"
      ]
    },
    {
      "cell_type": "code",
      "execution_count": 50,
      "metadata": {
        "id": "luoKbnbJ9CMk"
      },
      "outputs": [
        {
          "ename": "ValueError",
          "evalue": "cannot reshape array of size 28730 into shape (85,141,241)",
          "output_type": "error",
          "traceback": [
            "\u001b[1;31m---------------------------------------------------------------------------\u001b[0m",
            "\u001b[1;31mValueError\u001b[0m                                Traceback (most recent call last)",
            "Cell \u001b[1;32mIn[50], line 1\u001b[0m\n\u001b[1;32m----> 1\u001b[0m anomalies_obs_EU \u001b[38;5;241m=\u001b[39m \u001b[43manomalies_obs_EU\u001b[49m\u001b[38;5;241;43m.\u001b[39;49m\u001b[43mreshape\u001b[49m\u001b[43m(\u001b[49m\u001b[43manomalies_obs_EU\u001b[49m\u001b[38;5;241;43m.\u001b[39;49m\u001b[43mshape\u001b[49m\u001b[43m[\u001b[49m\u001b[38;5;241;43m0\u001b[39;49m\u001b[43m]\u001b[49m\u001b[43m,\u001b[49m\u001b[43m \u001b[49m\u001b[43mlatitudes_EU\u001b[49m\u001b[38;5;241;43m.\u001b[39;49m\u001b[43msize\u001b[49m\u001b[43m,\u001b[49m\u001b[43m \u001b[49m\u001b[43mlongitudes_EU\u001b[49m\u001b[38;5;241;43m.\u001b[39;49m\u001b[43msize\u001b[49m\u001b[43m)\u001b[49m\n",
            "\u001b[1;31mValueError\u001b[0m: cannot reshape array of size 28730 into shape (85,141,241)"
          ]
        }
      ],
      "source": [
        "anomalies_obs_EU = anomalies_obs_EU.reshape(anomalies_obs_EU.shape[0], latitudes_EU.size, longitudes_EU.size)"
      ]
    },
    {
      "cell_type": "code",
      "execution_count": null,
      "metadata": {
        "id": "S7G2NgTPz_Ea"
      },
      "outputs": [],
      "source": [
        "plot_anomalies(anomalies_obs_EU, latitudes_EU, longitudes_EU)"
      ]
    },
    {
      "cell_type": "markdown",
      "metadata": {
        "id": "zeEB2Qn5zLQV"
      },
      "source": [
        "Test sur les observations"
      ]
    },
    {
      "cell_type": "code",
      "execution_count": null,
      "metadata": {
        "id": "TYpQHykp9PP5"
      },
      "outputs": [],
      "source": [
        "anomalies_obs_EU = anomalies_obs_EU.reshape(anomalies_obs_EU.shape[0], latitudes_EU.size * longitudes_EU.size)"
      ]
    },
    {
      "cell_type": "code",
      "execution_count": null,
      "metadata": {
        "id": "8G5_EFSt0mIc"
      },
      "outputs": [],
      "source": [
        "X_obs_EU = anomalies_obs_EU\n",
        "y_obs_EU = svm_model_EU.predict(X_obs_EU)"
      ]
    },
    {
      "cell_type": "code",
      "execution_count": null,
      "metadata": {
        "id": "enNAFwOz0pk6"
      },
      "outputs": [],
      "source": [
        "val = np.arange(1940, 1940 + 85, 1)\n",
        "plt.plot(val, y_obs_EU, 'o')\n",
        "plt.xlabel('Année')\n",
        "plt.ylabel('Label (1 = Chgt climatique)')\n",
        "plt.title('Graphique de la détection du changement climatique en fonction des années grace au svm non linéaire en Europe')\n",
        "plt.show()"
      ]
    },
    {
      "cell_type": "markdown",
      "metadata": {
        "id": "g7GZFVOgJ6qp"
      },
      "source": [
        "## Test sur les valeurs extrêmes pas fait mais ça doit ressembler à ça"
      ]
    },
    {
      "cell_type": "markdown",
      "metadata": {
        "id": "JTF4Oo5AW5fE"
      },
      "source": [
        "Dans ce nouveau cas, nous allons étudier des données de maximum mensuel des précipitations journalières moyenne"
      ]
    },
    {
      "cell_type": "markdown",
      "metadata": {
        "id": "TxOQbInuMHfA"
      },
      "source": [
        "extraire les données, les mettres dans le bon format, faire le traitement (calcul des anomalies), séparation des données, entrainement du modèle, validation/test du modèle et application du modèle"
      ]
    },
    {
      "cell_type": "code",
      "execution_count": null,
      "metadata": {
        "id": "RRq0akDuKAbx"
      },
      "outputs": [],
      "source": [
        "path_max_precipitation = 'drive/MyDrive/projet/Data_precip_CESM2'"
      ]
    },
    {
      "cell_type": "code",
      "execution_count": null,
      "metadata": {
        "id": "G_0Y7wVTWDdl"
      },
      "outputs": [],
      "source": [
        "def reduce_granularity(ds, target_points):\n",
        "    lat_points = ds.sizes['lat']\n",
        "    lon_points = ds.sizes['lon']\n",
        "    total_points = lat_points * lon_points\n",
        "    factor = int(np.sqrt(total_points / target_points))\n",
        "    factor = max(1, factor)\n",
        "    ds_reduced = ds.coarsen(lat=factor, lon=factor, boundary='trim').mean()\n",
        "    return ds_reduced\n",
        "\n",
        "def traitement_data(ds, start_past, end_past, start_present, end_present, n_pt):\n",
        "    data_past = ds.sel(time=slice(start_past, end_past))\n",
        "    data_past = reduce_granularity(data_past, n_pt)\n",
        "    seasonalities = data_past.groupby('time.month').mean('time')\n",
        "    anomalies_past = data_past.groupby('time.month') - seasonalities\n",
        "    anomalies_past_yearly = anomalies_past.resample(time='1YE').mean()\n",
        "\n",
        "    data_present = ds.sel(time=slice(start_present, end_present))\n",
        "    data_present = reduce_granularity(data_present, n_pt)\n",
        "    anomalies_present = data_present.groupby('time.month') - seasonalities\n",
        "    anomalies_present_yearly = anomalies_present.resample(time='1YE').mean()\n",
        "\n",
        "    return anomalies_past_yearly.tas.data, anomalies_present_yearly.tas.data"
      ]
    },
    {
      "cell_type": "code",
      "execution_count": null,
      "metadata": {
        "id": "bXlGhtjpWEj2"
      },
      "outputs": [],
      "source": [
        "all_data = []\n",
        "all_labels = []\n",
        "\n",
        "for file_name in os.listdir(path_max_precipitation)[:5]: # puis passer à 50\n",
        "    full_path = os.path.join(path, file_name)\n",
        "    xarray = xr.open_dataset(full_path)\n",
        "\n",
        "    xarray = xarray.sel(lat=date(1880, 2022))\n",
        "\n",
        "    past, present = traitement_data(xarray, start_past, end_past, start_present, end_present, nb_pts)\n",
        "\n",
        "    time_p, lat_p, lon_p = past.shape\n",
        "    past_reshaped = past.reshape((time_p, lat_p * lon_p))\n",
        "    labels_past = np.zeros((time_p, 1))  # Label 0 pour le passé\n",
        "\n",
        "    time_c, lat_c, lon_c = present.shape\n",
        "    present_reshaped = present.reshape((time_c, lat_c * lon_c))\n",
        "    labels_present = np.ones((time_c, 1))  # Label 1 pour le présent\n",
        "\n",
        "    all_data.append(np.vstack((past_reshaped, present_reshaped)))\n",
        "    all_labels.append(np.vstack((labels_past, labels_present)))\n",
        "\n",
        "all_data = np.vstack(all_data)\n",
        "all_labels = np.vstack(all_labels)\n",
        "\n",
        "data_max = all_data\n",
        "labels_max = all_labels.ravel()"
      ]
    },
    {
      "cell_type": "code",
      "execution_count": null,
      "metadata": {
        "id": "GZu39syPIPww"
      },
      "outputs": [],
      "source": [
        "svm_model, errI, pwr, accuracy = score_model(data_max, labels_max, 0.05)\n",
        "print(f\"Puissance du test: {pwr}\")\n",
        "print(f\"Précision du modèle: {accuracy}\")\n",
        "print(f\"Erreur de type I: {errI}\")"
      ]
    },
    {
      "cell_type": "markdown",
      "metadata": {
        "id": "KVBzZMdHItyz"
      },
      "source": [
        "quelles sont les données d'observations ?"
      ]
    },
    {
      "cell_type": "code",
      "execution_count": null,
      "metadata": {
        "id": "l8pe0vHyItTD"
      },
      "outputs": [],
      "source": []
    },
    {
      "cell_type": "markdown",
      "metadata": {
        "id": "qJHLIofpKFpM"
      },
      "source": [
        "## Test bayésien à tester"
      ]
    },
    {
      "cell_type": "markdown",
      "metadata": {
        "id": "AypITRcdKcZo"
      },
      "source": [
        "Calculer les Facteur de Bayes (voir également(Kass & Raftery 1995)) en utilisant les données que vous utilisé pour calculer une statistique. Une fois que le modèle de Gaussian Process est entraîné, vous obtenez une distribution postérieur pour chaque nouveau X=x* que vous voulez tester, i.e. une probabilité que Y=1 (changement climatique) et une autre pour Y=0 (pas de changement climatique), notons respectivement P(Y=1|X=x*) et P(Y=0|X=x*).\n",
        "\n",
        "\n",
        "Nous pouvons alors calculer le facteur de bayes en prenant le ratio de ces deux probabilités, i.e. FB = P(Y=1|X=x*)/P(Y=0|X=x*). Si FB>1 cela signifie que le test penche en faveur du changement climatique. Vous pouvez utiliser ces valeurs de référence des facteurs de bayes proposées par Jeffreys."
      ]
    },
    {
      "cell_type": "markdown",
      "metadata": {
        "id": "cty1eVCkCgv2"
      },
      "source": [
        "Le SVM est entraîné sur les données d'entraînement\n",
        "\n",
        "Le SVM génère des probabilités pour les données de test\n",
        "\n",
        "Ces probabilités sont utilisées comme features pour entraîner le GPC\n",
        "\n",
        "Le GPC fournit ensuite des probabilités qui sont utilisées pour calculer le facteur de Bayes"
      ]
    },
    {
      "cell_type": "code",
      "execution_count": null,
      "metadata": {
        "id": "xXa-2mQeNJK3"
      },
      "outputs": [],
      "source": [
        "def facteur_bayesien(data, labels, svm_model):\n",
        "    X_train, X_val, X_test, y_train, y_val, y_test = split_data_bayes_torch(data, labels)\n",
        "\n",
        "    svm_proba = svm_model.predict_proba(X_test)\n",
        "    svm_proba_feature = svm_proba[:, 1].reshape(-1, 1)\n",
        "\n",
        "    kernel = 1.0 * RBF(length_scale=1.0)  # RBF Kernel pour GPC\n",
        "    gpc = GaussianProcessClassifier(kernel=kernel, random_state=42)\n",
        "    gpc.fit(svm_proba_feature, y_test)\n",
        "\n",
        "    FB = gpc.predict_proba(svm_proba_feature)[:, 1] / gpc.predict_proba(svm_proba_feature)[:, 0]\n",
        "\n",
        "    return FB, y_test, X_test, gpc"
      ]
    },
    {
      "cell_type": "code",
      "execution_count": null,
      "metadata": {
        "id": "CLqjAxgjKKgV"
      },
      "outputs": [],
      "source": [
        "def test_bayesien(data, labels, svm_model):\n",
        "    FB, y_test, X_test, gpc = facteur_bayesien(data, labels, svm_model)\n",
        "\n",
        "    predictions = (FB > 1).astype(int)\n",
        "\n",
        "    bayes_scores = np.zeros_like(FB)\n",
        "\n",
        "    bayes_scores[FB < 1] = 0                   # Preuve contre le changement climatique\n",
        "    bayes_scores[(FB >= 1) & (FB < 3)] = 1     # Évidence faible\n",
        "    bayes_scores[(FB >= 3) & (FB < 10)] = 2    # Preuve modérée\n",
        "    bayes_scores[(FB >= 10) & (FB < 30)] = 3   # Preuve forte\n",
        "    bayes_scores[(FB >= 30) & (FB < 100)] = 4  # Preuve très forte\n",
        "    bayes_scores[FB >= 100] = 5                # Preuve décisive\n",
        "\n",
        "    return bayes_scores, predictions, y_test, X_test, gpc"
      ]
    },
    {
      "cell_type": "code",
      "execution_count": null,
      "metadata": {
        "id": "l0d9GmC0BLss"
      },
      "outputs": [],
      "source": [
        "def predict_observation(svm_model, gpc, X_obs):\n",
        "\n",
        "    # Prédire avec SVM\n",
        "    svm_probs = svm_model.predict_proba(X_obs)\n",
        "    svm_probs_feature = svm_probs[:, 1].reshape(-1, 1)\n",
        "\n",
        "    # Prédire avec GPC\n",
        "    gpc_probs = gpc.predict_proba(svm_probs_feature)\n",
        "\n",
        "    # Calculer le facteur de Bayes\n",
        "    FB = gpc_probs[:, 1] / gpc_probs[:, 0]\n",
        "\n",
        "    # Interpréter selon l'échelle de Jeffreys\n",
        "    bayes_scores = np.zeros_like(FB)\n",
        "    bayes_scores[FB < 1] = 0\n",
        "    bayes_scores[(FB >= 1) & (FB < 3)] = 1\n",
        "    bayes_scores[(FB >= 3) & (FB < 10)] = 2\n",
        "    bayes_scores[(FB >= 10) & (FB < 30)] = 3\n",
        "    bayes_scores[(FB >= 30) & (FB < 100)] = 4\n",
        "    bayes_scores[FB >= 100] = 5\n",
        "\n",
        "    return FB, bayes_scores"
      ]
    },
    {
      "cell_type": "code",
      "execution_count": null,
      "metadata": {
        "id": "4rgg7U6tF-US"
      },
      "outputs": [],
      "source": [
        "bayes_scores, predictions, y_true, X_test, gpc = test_bayesien(data, labels, svm_model)\n",
        "\n",
        "accuracy = accuracy_score(y_true, predictions)\n",
        "print(f\"Précision: {accuracy:.4f}\")\n",
        "\n",
        "for i, label in enumerate([\"Preuve contre\", \"Évidence faible\", \"Preuve modérée\",\n",
        "                          \"Preuve forte\", \"Preuve très forte\", \"Preuve décisive\"]):\n",
        "    count = np.sum(bayes_scores == i)\n",
        "    percentage = (count / len(bayes_scores)) * 100\n",
        "    print(f\"{label}: {count} cas ({percentage:.2f}%)\")\n",
        "\n",
        "FB_obs, score_obs = predict_observation(svm_model, gpc, X_obs)"
      ]
    },
    {
      "cell_type": "code",
      "execution_count": null,
      "metadata": {
        "id": "MV7zSeSwGbPN"
      },
      "outputs": [],
      "source": [
        "val = np.arange(1940, 1940 + 85, 1)\n",
        "plt.plot(val, score_obs, 'o')\n",
        "plt.xlabel('Année')\n",
        "plt.ylabel('Échelle de Jeffreys')\n",
        "plt.title('Graphique de la détection du changement climatique en fonction des années grace au svm non linéaire et à un test bayesien')\n",
        "plt.show()"
      ]
    },
    {
      "cell_type": "markdown",
      "metadata": {
        "id": "eEsA2TfYn_FG"
      },
      "source": [
        "Pour une région"
      ]
    },
    {
      "cell_type": "code",
      "execution_count": null,
      "metadata": {
        "id": "9DUHwSR6oBrE"
      },
      "outputs": [],
      "source": [
        "bayes_scores, predictions, y_true, X_test, gpc = test_bayesien(data_AM, labels_AM, svm_model_AM)\n",
        "\n",
        "accuracy = accuracy_score(y_true, predictions)\n",
        "print(f\"Précision: {accuracy:.4f}\")\n",
        "\n",
        "for i, label in enumerate([\"Preuve contre\", \"Évidence faible\", \"Preuve modérée\",\n",
        "                          \"Preuve forte\", \"Preuve très forte\", \"Preuve décisive\"]):\n",
        "    count = np.sum(bayes_scores == i)\n",
        "    percentage = (count / len(bayes_scores)) * 100\n",
        "    print(f\"{label}: {count} cas ({percentage:.2f}%)\")\n",
        "\n",
        "FB_obs, score_obs = predict_observation(svm_model_AM, gpc, X_obs_AM)"
      ]
    },
    {
      "cell_type": "code",
      "execution_count": null,
      "metadata": {
        "id": "CrHu1fvIoO6j"
      },
      "outputs": [],
      "source": [
        "val = np.arange(1940, 1940 + 85, 1)\n",
        "plt.plot(val, score_obs, 'o')\n",
        "plt.xlabel('Année')\n",
        "plt.ylabel('Échelle de Jeffreys')\n",
        "plt.title('Graphique de la détection du changement climatique en fonction des années en Amérique du Nord grace au svm non linéaire et à un test bayesien')\n",
        "plt.show()"
      ]
    },
    {
      "cell_type": "code",
      "execution_count": null,
      "metadata": {
        "id": "nYPw1nOs9j5P"
      },
      "outputs": [],
      "source": [
        "bayes_scores, predictions, y_true, X_test, gpc = test_bayesien(data_EU, labels_EU, svm_model_EU)\n",
        "\n",
        "accuracy = accuracy_score(y_true, predictions)\n",
        "print(f\"Précision: {accuracy:.4f}\")\n",
        "\n",
        "for i, label in enumerate([\"Preuve contre\", \"Évidence faible\", \"Preuve modérée\",\n",
        "                          \"Preuve forte\", \"Preuve très forte\", \"Preuve décisive\"]):\n",
        "    count = np.sum(bayes_scores == i)\n",
        "    percentage = (count / len(bayes_scores)) * 100\n",
        "    print(f\"{label}: {count} cas ({percentage:.2f}%)\")\n",
        "\n",
        "FB_obs, score_obs = predict_observation(svm_model_EU, gpc, X_obs_EU)"
      ]
    },
    {
      "cell_type": "code",
      "execution_count": null,
      "metadata": {
        "id": "LVpk_epQ9jql"
      },
      "outputs": [],
      "source": [
        "val = np.arange(1940, 1940 + 85, 1)\n",
        "plt.plot(val, score_obs, 'o')\n",
        "plt.xlabel('Année')\n",
        "plt.ylabel('Échelle de Jeffreys')\n",
        "plt.title('Graphique de la détection du changement climatique en fonction des années en Europe grace au svm non linéaire et à un test bayesien')\n",
        "plt.show()"
      ]
    },
    {
      "cell_type": "markdown",
      "metadata": {
        "id": "tGtZ8x7Lnuzk"
      },
      "source": [
        "## Conclusion"
      ]
    },
    {
      "cell_type": "code",
      "execution_count": null,
      "metadata": {
        "id": "xQwoFoerIM5A"
      },
      "outputs": [],
      "source": []
    },
    {
      "cell_type": "code",
      "execution_count": null,
      "metadata": {
        "id": "rhXGjoFLIM1M"
      },
      "outputs": [],
      "source": []
    },
    {
      "cell_type": "code",
      "execution_count": null,
      "metadata": {
        "id": "3_Rs1zkBIMxz"
      },
      "outputs": [],
      "source": []
    },
    {
      "cell_type": "markdown",
      "metadata": {
        "id": "2IL0hHPdoPT1"
      },
      "source": [
        "Résultat dans la ligné des précédents.\n",
        "\n",
        "On peut noter qu'avec le split bayésien, on obtient une puissance de test supérieure à celle obtenue avec le plit random même si on a du rajouter de l'aléa pour parvenir à faire ce split.\n",
        "\n",
        "On pourrait tester:\n",
        "- faire varier les paramètre du SVM\n",
        "- essasyer un kernel poly pour le GP\n",
        "- retirer les données de 1940 à 1960\n",
        "- une autre méthode pour résoudre le problème des quartiles\n",
        "-\n",
        "\n",
        "Etape suivante, faire un test statistique bayésien et non fréquentiste"
      ]
    }
  ],
  "metadata": {
    "colab": {
      "collapsed_sections": [
        "k-jpbiPxyP3I"
      ],
      "provenance": []
    },
    "kernelspec": {
      "display_name": "Python 3",
      "name": "python3"
    },
    "language_info": {
      "codemirror_mode": {
        "name": "ipython",
        "version": 3
      },
      "file_extension": ".py",
      "mimetype": "text/x-python",
      "name": "python",
      "nbconvert_exporter": "python",
      "pygments_lexer": "ipython3",
      "version": "3.12.4"
    }
  },
  "nbformat": 4,
  "nbformat_minor": 0
}
